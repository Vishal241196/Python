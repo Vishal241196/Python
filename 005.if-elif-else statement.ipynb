{
 "cells": [
  {
   "cell_type": "code",
   "execution_count": 1,
   "metadata": {},
   "outputs": [
    {
     "name": "stdout",
     "output_type": "stream",
     "text": [
      "b is greater\n"
     ]
    }
   ],
   "source": [
    "a = 45\n",
    "b = 55\n",
    "if (a<b):\n",
    "    print(\"b is greater\")"
   ]
  },
  {
   "cell_type": "code",
   "execution_count": 2,
   "metadata": {},
   "outputs": [
    {
     "name": "stdout",
     "output_type": "stream",
     "text": [
      "a is greater\n"
     ]
    }
   ],
   "source": [
    "a = 55\n",
    "b = 45\n",
    "if (a<b):\n",
    "    print(\"b is greater\")\n",
    "else:\n",
    "    print(\"a is greater\")"
   ]
  },
  {
   "cell_type": "code",
   "execution_count": 3,
   "metadata": {},
   "outputs": [
    {
     "name": "stdout",
     "output_type": "stream",
     "text": [
      "a and b both are equal\n"
     ]
    }
   ],
   "source": [
    "a = 45\n",
    "b = 45\n",
    "if (a<b):\n",
    "    print(\"b is greater\")\n",
    "elif (a==b):\n",
    "    print(\"a and b both are equal\")\n",
    "else:\n",
    "    print(\"a is greater\")"
   ]
  },
  {
   "cell_type": "code",
   "execution_count": 4,
   "metadata": {},
   "outputs": [],
   "source": [
    "import numpy as np"
   ]
  },
  {
   "cell_type": "code",
   "execution_count": 5,
   "metadata": {},
   "outputs": [
    {
     "name": "stdout",
     "output_type": "stream",
     "text": [
      "[ 2  4  6  8 10 12 14]\n",
      "\n",
      "\n",
      "[ 3  6  9 12 15]\n",
      "\n",
      "\n",
      "length of a is greater then length of b\n"
     ]
    }
   ],
   "source": [
    "a = np.array([2,4,6,8,10,12,14])\n",
    "b = np.array([3,6,9,12,15])\n",
    "print(a)\n",
    "print(\"\\n\")\n",
    "print(b)\n",
    "print(\"\\n\")\n",
    "if (len(a)>len(b)):\n",
    "    print(\"length of a is greater then length of b\")\n",
    "elif (len(a)==len(b)):\n",
    "    print(\"length of a is equal to length of b\")\n",
    "else:\n",
    "    print(\"length of b is greater then length of a\")"
   ]
  },
  {
   "cell_type": "code",
   "execution_count": 6,
   "metadata": {},
   "outputs": [
    {
     "name": "stdout",
     "output_type": "stream",
     "text": [
      "element of a at index 2 is equal to element of b at index 1\n"
     ]
    }
   ],
   "source": [
    "if (a[2]>b[1]):\n",
    "    print(\"element of a at index 2 is greater then element of b at index 1\")\n",
    "elif (a[2]==b[1]):\n",
    "    print(\"element of a at index 2 is equal to element of b at index 1\")\n",
    "else:\n",
    "    print(\"element of b at index 1 is greater then element of a at index 2\")"
   ]
  },
  {
   "cell_type": "code",
   "execution_count": 18,
   "metadata": {},
   "outputs": [
    {
     "name": "stdout",
     "output_type": "stream",
     "text": [
      "shape of a is greater then shape of b\n",
      "(7,) (5,)\n"
     ]
    }
   ],
   "source": [
    "if (a.shape<b.shape):\n",
    "    print(\"shape of b is greater then shape of a\")\n",
    "elif(a.shape==b.shape):\n",
    "    print(\"a of a is equal to shape of b\")\n",
    "else:\n",
    "    print(\"shape of a is greater then shape of b\")\n",
    "\n",
    "print(a.shape,b.shape)"
   ]
  },
  {
   "cell_type": "code",
   "execution_count": null,
   "metadata": {},
   "outputs": [],
   "source": []
  }
 ],
 "metadata": {
  "kernelspec": {
   "display_name": "Python 3",
   "language": "python",
   "name": "python3"
  },
  "language_info": {
   "codemirror_mode": {
    "name": "ipython",
    "version": 3
   },
   "file_extension": ".py",
   "mimetype": "text/x-python",
   "name": "python",
   "nbconvert_exporter": "python",
   "pygments_lexer": "ipython3",
   "version": "3.8.8"
  }
 },
 "nbformat": 4,
 "nbformat_minor": 4
}
