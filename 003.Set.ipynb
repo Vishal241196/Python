{
 "cells": [
  {
   "cell_type": "markdown",
   "metadata": {},
   "source": [
    "### Set:-\n",
    "- A set is a collection which is unordered, unchangable or immutable and unindexed. \n",
    "- In Python sets are written with curly brackets.\n",
    "- No duplicate members."
   ]
  },
  {
   "cell_type": "code",
   "execution_count": 1,
   "metadata": {},
   "outputs": [
    {
     "data": {
      "text/plain": [
       "{1, 2, 3, 4, 5}"
      ]
     },
     "execution_count": 1,
     "metadata": {},
     "output_type": "execute_result"
    }
   ],
   "source": [
    "set = {1,2,3,4,5,5,5}\n",
    "set"
   ]
  },
  {
   "cell_type": "code",
   "execution_count": 2,
   "metadata": {},
   "outputs": [
    {
     "data": {
      "text/plain": [
       "{'blue', 'cyan', 'green', 'pink', 'red', 'voilet', 'yellow'}"
      ]
     },
     "execution_count": 2,
     "metadata": {},
     "output_type": "execute_result"
    }
   ],
   "source": [
    "set = {'red','green','blue','yellow','cyan','voilet','pink'}\n",
    "set"
   ]
  },
  {
   "cell_type": "markdown",
   "metadata": {},
   "source": [
    "### Access item from set or Indexing, -ive Indexing, range of index"
   ]
  },
  {
   "cell_type": "code",
   "execution_count": 3,
   "metadata": {},
   "outputs": [
    {
     "ename": "TypeError",
     "evalue": "'set' object is not subscriptable",
     "output_type": "error",
     "traceback": [
      "\u001b[1;31m---------------------------------------------------------------------------\u001b[0m",
      "\u001b[1;31mTypeError\u001b[0m                                 Traceback (most recent call last)",
      "\u001b[1;32m<ipython-input-3-ab4e468f469a>\u001b[0m in \u001b[0;36m<module>\u001b[1;34m\u001b[0m\n\u001b[1;32m----> 1\u001b[1;33m \u001b[0mset\u001b[0m\u001b[1;33m[\u001b[0m\u001b[1;36m3\u001b[0m\u001b[1;33m]\u001b[0m\u001b[1;31m#cannot access items in a set by referring to an index, sets are unordered the items has no index.\u001b[0m\u001b[1;33m\u001b[0m\u001b[1;33m\u001b[0m\u001b[0m\n\u001b[0m",
      "\u001b[1;31mTypeError\u001b[0m: 'set' object is not subscriptable"
     ]
    }
   ],
   "source": [
    "set[3]#cannot access items in a set by referring to an index, sets are unordered the items has no index."
   ]
  },
  {
   "cell_type": "markdown",
   "metadata": {},
   "source": [
    "### loop through set"
   ]
  },
  {
   "cell_type": "code",
   "execution_count": 4,
   "metadata": {},
   "outputs": [
    {
     "name": "stdout",
     "output_type": "stream",
     "text": [
      "red\n",
      "green\n",
      "blue\n",
      "pink\n",
      "voilet\n",
      "cyan\n",
      "yellow\n"
     ]
    }
   ],
   "source": [
    "for i in set:\n",
    "    print(i)"
   ]
  },
  {
   "cell_type": "code",
   "execution_count": 5,
   "metadata": {},
   "outputs": [],
   "source": [
    "for i in set:\n",
    "    if (i=='red'):\n",
    "        break\n",
    "    else:\n",
    "        print(i)"
   ]
  },
  {
   "cell_type": "markdown",
   "metadata": {},
   "source": [
    "### change the index"
   ]
  },
  {
   "cell_type": "code",
   "execution_count": 6,
   "metadata": {},
   "outputs": [
    {
     "ename": "TypeError",
     "evalue": "'set' object does not support item assignment",
     "output_type": "error",
     "traceback": [
      "\u001b[1;31m---------------------------------------------------------------------------\u001b[0m",
      "\u001b[1;31mTypeError\u001b[0m                                 Traceback (most recent call last)",
      "\u001b[1;32m<ipython-input-6-bf6041592f28>\u001b[0m in \u001b[0;36m<module>\u001b[1;34m\u001b[0m\n\u001b[1;32m----> 1\u001b[1;33m \u001b[0mset\u001b[0m\u001b[1;33m[\u001b[0m\u001b[1;36m3\u001b[0m\u001b[1;33m]\u001b[0m\u001b[1;33m=\u001b[0m\u001b[1;34m'navy blue'\u001b[0m\u001b[1;31m#unchangable\u001b[0m\u001b[1;33m\u001b[0m\u001b[1;33m\u001b[0m\u001b[0m\n\u001b[0m",
      "\u001b[1;31mTypeError\u001b[0m: 'set' object does not support item assignment"
     ]
    }
   ],
   "source": [
    "set[3]='navy blue'#unchangable"
   ]
  },
  {
   "cell_type": "markdown",
   "metadata": {},
   "source": [
    "### check if item exists in set"
   ]
  },
  {
   "cell_type": "code",
   "execution_count": 7,
   "metadata": {},
   "outputs": [
    {
     "name": "stdout",
     "output_type": "stream",
     "text": [
      "Item Exists\n"
     ]
    }
   ],
   "source": [
    "if \"red\" in set:\n",
    "    print(\"Item Exists\")"
   ]
  },
  {
   "cell_type": "code",
   "execution_count": 8,
   "metadata": {},
   "outputs": [
    {
     "name": "stdout",
     "output_type": "stream",
     "text": [
      "Item Not Exists\n"
     ]
    }
   ],
   "source": [
    "if \"navy blue\" in set:\n",
    "    print(\"Item Exists\")\n",
    "else:\n",
    "    print(\"Item Not Exists\")"
   ]
  },
  {
   "cell_type": "code",
   "execution_count": 9,
   "metadata": {},
   "outputs": [
    {
     "name": "stdout",
     "output_type": "stream",
     "text": [
      "Item Exists\n",
      "Item Not Exists\n",
      "Item Not Exists\n",
      "Item Not Exists\n",
      "Item Not Exists\n",
      "Item Not Exists\n",
      "Item Not Exists\n"
     ]
    }
   ],
   "source": [
    "for i in set:\n",
    "    if (i==\"red\"):\n",
    "        print('Item Exists')\n",
    "    else:\n",
    "        print('Item Not Exists')"
   ]
  },
  {
   "cell_type": "markdown",
   "metadata": {},
   "source": [
    "### length of set"
   ]
  },
  {
   "cell_type": "code",
   "execution_count": 10,
   "metadata": {},
   "outputs": [
    {
     "name": "stdout",
     "output_type": "stream",
     "text": [
      "7\n"
     ]
    }
   ],
   "source": [
    "print(len(set))"
   ]
  },
  {
   "cell_type": "markdown",
   "metadata": {},
   "source": [
    "### Set Method\n",
    "                               Method\tDescription\n",
    "    1.                          add()    Adds an element to the set\n",
    "    2.                        clear()    Removes all the elements from the set\n",
    "    3.                         copy()\tReturns a copy of the set\n",
    "    4.                   difference()\tReturns a set containing the difference between two or more sets\n",
    "    5.            difference_update()\tRemoves the items in this set that are also included in another,\n",
    "                                         specified set\n",
    "    6.                      discard()\tRemove the specified item\n",
    "    7.                 intersection()\tReturns a set, that is the intersection of two other sets\n",
    "    8.          intersection_update()\tRemoves the items in this set that are not present in other, \n",
    "                                         specified set(s)\n",
    "    9.                   isdisjoint()    Returns whether two sets have a intersection or not\n",
    "    10.                    issubset()\tReturns whether another set contains this set or not\n",
    "    11.                  issuperset()\tReturns whether this set contains another set or not\n",
    "    12.                         pop()\tRemoves an element from the set\n",
    "    13.                      remove()\tRemoves the specified element\n",
    "    14.        symmetric_difference()\tReturns a set with the symmetric differences of two sets\n",
    "    15. symmetric_difference_update()    inserts the symmetric differences from this set and another\n",
    "    16.                       union()\tReturn a set containing the union of sets\n",
    "    17.                      update()\tUpdate the set with the union of this set and others"
   ]
  },
  {
   "cell_type": "code",
   "execution_count": 11,
   "metadata": {},
   "outputs": [
    {
     "data": {
      "text/plain": [
       "{'blue', 'cyan', 'green', 'orange', 'pink', 'red', 'voilet', 'yellow'}"
      ]
     },
     "execution_count": 11,
     "metadata": {},
     "output_type": "execute_result"
    }
   ],
   "source": [
    "set = {'red','green','blue','yellow','cyan','voilet','pink'}\n",
    "set.add('orange')#1 Adds an element to the set\n",
    "set"
   ]
  },
  {
   "cell_type": "code",
   "execution_count": 12,
   "metadata": {},
   "outputs": [
    {
     "data": {
      "text/plain": [
       "set()"
      ]
     },
     "execution_count": 12,
     "metadata": {},
     "output_type": "execute_result"
    }
   ],
   "source": [
    "set.clear()#2 Removes all the elements from the set\n",
    "set"
   ]
  },
  {
   "cell_type": "code",
   "execution_count": 13,
   "metadata": {},
   "outputs": [
    {
     "data": {
      "text/plain": [
       "{'blue', 'green', 'red', 'yellow'}"
      ]
     },
     "execution_count": 13,
     "metadata": {},
     "output_type": "execute_result"
    }
   ],
   "source": [
    "set1 = {'red','green','blue','yellow'}\n",
    "set2 = set1.copy()#3 Returns a copy of the set\n",
    "set2"
   ]
  },
  {
   "cell_type": "code",
   "execution_count": 14,
   "metadata": {},
   "outputs": [
    {
     "data": {
      "text/plain": [
       "{'green', 'red', 'yellow'}"
      ]
     },
     "execution_count": 14,
     "metadata": {},
     "output_type": "execute_result"
    }
   ],
   "source": [
    "set1 = {'red','green','blue','yellow'}\n",
    "set2 = {'cyan','voilet','pink','blue'}\n",
    "x = set1.difference(set2)#4 Returns a set containing the difference between two or more sets\n",
    "x"
   ]
  },
  {
   "cell_type": "code",
   "execution_count": 15,
   "metadata": {},
   "outputs": [
    {
     "data": {
      "text/plain": [
       "{'green', 'red', 'yellow'}"
      ]
     },
     "execution_count": 15,
     "metadata": {},
     "output_type": "execute_result"
    }
   ],
   "source": [
    "set1 = {'red','green','blue','yellow'}\n",
    "set2 = {'cyan','voilet','pink','blue'}\n",
    "set1.difference_update(set2)#5 Removes the items in this set that are not present in other, specified set(s)\n",
    "set1"
   ]
  },
  {
   "cell_type": "code",
   "execution_count": 16,
   "metadata": {},
   "outputs": [
    {
     "data": {
      "text/plain": [
       "{'green', 'yellow'}"
      ]
     },
     "execution_count": 16,
     "metadata": {},
     "output_type": "execute_result"
    }
   ],
   "source": [
    "set1.discard('red')#6 Remove the specified item\n",
    "set1"
   ]
  },
  {
   "cell_type": "code",
   "execution_count": 17,
   "metadata": {},
   "outputs": [
    {
     "data": {
      "text/plain": [
       "{'blue'}"
      ]
     },
     "execution_count": 17,
     "metadata": {},
     "output_type": "execute_result"
    }
   ],
   "source": [
    "set1 = {'red','green','blue','yellow'}\n",
    "set2 = {'cyan','voilet','pink','blue'}\n",
    "x = set1.intersection(set2)#7 Returns a set, that is the intersection of two other sets\n",
    "x"
   ]
  },
  {
   "cell_type": "code",
   "execution_count": 18,
   "metadata": {},
   "outputs": [
    {
     "data": {
      "text/plain": [
       "{'blue'}"
      ]
     },
     "execution_count": 18,
     "metadata": {},
     "output_type": "execute_result"
    }
   ],
   "source": [
    "set1 = {'red','green','blue','yellow'}\n",
    "set2 = {'cyan','voilet','pink','blue'}\n",
    "set1.intersection_update(set2)#8 Removes the items in this set that are not present in other, specified set(s)\n",
    "set1"
   ]
  },
  {
   "cell_type": "code",
   "execution_count": 19,
   "metadata": {},
   "outputs": [
    {
     "data": {
      "text/plain": [
       "True"
      ]
     },
     "execution_count": 19,
     "metadata": {},
     "output_type": "execute_result"
    }
   ],
   "source": [
    "set1 = {'red','green','blue','yellow'}\n",
    "set2 = {'cyan','voilet','pink'}\n",
    "x = set1.isdisjoint(set2)#9 Returns whether two sets have a intersection or not\n",
    "#return  True if no item in set1 is present in set2\n",
    "x"
   ]
  },
  {
   "cell_type": "code",
   "execution_count": 20,
   "metadata": {},
   "outputs": [
    {
     "data": {
      "text/plain": [
       "False"
      ]
     },
     "execution_count": 20,
     "metadata": {},
     "output_type": "execute_result"
    }
   ],
   "source": [
    "set1 = {'red','green','blue','yellow'}\n",
    "set2 = {'cyan','voilet','pink','blue'}\n",
    "x = set1.isdisjoint(set2)#return  False if no item in set1 is present in set2\n",
    "x"
   ]
  },
  {
   "cell_type": "code",
   "execution_count": 21,
   "metadata": {},
   "outputs": [
    {
     "data": {
      "text/plain": [
       "True"
      ]
     },
     "execution_count": 21,
     "metadata": {},
     "output_type": "execute_result"
    }
   ],
   "source": [
    "set1 = {'red','green','blue','yellow'}\n",
    "set2 = {'cyan','voilet','pink','blue','red','yellow','green'}\n",
    "x = set1.issubset(set2)#10 Returns whether another set contains this set or not\n",
    "#return  True if all item in set1 is present in set2\n",
    "x"
   ]
  },
  {
   "cell_type": "code",
   "execution_count": 22,
   "metadata": {},
   "outputs": [
    {
     "data": {
      "text/plain": [
       "False"
      ]
     },
     "execution_count": 22,
     "metadata": {},
     "output_type": "execute_result"
    }
   ],
   "source": [
    "set1 = {'red','green','blue','yellow'}\n",
    "set2 = {'cyan','voilet','pink','blue','red'}\n",
    "x = set1.issubset(set2)#return False if all item in set1 is not present in set2\n",
    "x"
   ]
  },
  {
   "cell_type": "code",
   "execution_count": 23,
   "metadata": {},
   "outputs": [
    {
     "data": {
      "text/plain": [
       "False"
      ]
     },
     "execution_count": 23,
     "metadata": {},
     "output_type": "execute_result"
    }
   ],
   "source": [
    "set1 = {'red','green','blue','yellow','cyan','voilet'}\n",
    "set2 = {'cyan','voilet','pink'}\n",
    "x = set1.issuperset(set2)#11 Returns whether this set contains another set or not\n",
    "#return False if all item in set2 is not present in set1\n",
    "x"
   ]
  },
  {
   "cell_type": "code",
   "execution_count": 24,
   "metadata": {},
   "outputs": [
    {
     "data": {
      "text/plain": [
       "True"
      ]
     },
     "execution_count": 24,
     "metadata": {},
     "output_type": "execute_result"
    }
   ],
   "source": [
    "set1 = {'red','green','blue','yellow','cyan','voilet','pink'}\n",
    "set2 = {'cyan','voilet','pink'}\n",
    "x = set1.issuperset(set2)#return True if all item in set2 is present in set1\n",
    "x"
   ]
  },
  {
   "cell_type": "code",
   "execution_count": 25,
   "metadata": {},
   "outputs": [
    {
     "data": {
      "text/plain": [
       "'red'"
      ]
     },
     "execution_count": 25,
     "metadata": {},
     "output_type": "execute_result"
    }
   ],
   "source": [
    "set1 = {'red','green','blue','yellow','cyan','voilet','pink'}\n",
    "set1.pop()#12 Removes an element from the set"
   ]
  },
  {
   "cell_type": "code",
   "execution_count": 26,
   "metadata": {},
   "outputs": [
    {
     "data": {
      "text/plain": [
       "{'blue', 'cyan', 'green', 'pink', 'voilet', 'yellow'}"
      ]
     },
     "execution_count": 26,
     "metadata": {},
     "output_type": "execute_result"
    }
   ],
   "source": [
    "set1"
   ]
  },
  {
   "cell_type": "code",
   "execution_count": 27,
   "metadata": {},
   "outputs": [
    {
     "data": {
      "text/plain": [
       "{'cyan', 'green', 'pink', 'red', 'voilet', 'yellow'}"
      ]
     },
     "execution_count": 27,
     "metadata": {},
     "output_type": "execute_result"
    }
   ],
   "source": [
    "set1 = {'red','green','blue','yellow','cyan','voilet','pink'}\n",
    "set1.remove('blue')#13 Removes the specified element\n",
    "set1"
   ]
  },
  {
   "cell_type": "code",
   "execution_count": 28,
   "metadata": {},
   "outputs": [
    {
     "data": {
      "text/plain": [
       "{'cyan', 'green', 'pink', 'red', 'voilet', 'yellow'}"
      ]
     },
     "execution_count": 28,
     "metadata": {},
     "output_type": "execute_result"
    }
   ],
   "source": [
    "set1 = {'red','green','blue','yellow'}\n",
    "set2 = {'cyan','voilet','pink','blue'}\n",
    "x = set1.symmetric_difference(set2)#14 Returns a set with the symmetric differences of two sets\n",
    "x"
   ]
  },
  {
   "cell_type": "code",
   "execution_count": 30,
   "metadata": {},
   "outputs": [
    {
     "data": {
      "text/plain": [
       "{'cyan', 'green', 'pink', 'red', 'voilet', 'yellow'}"
      ]
     },
     "execution_count": 30,
     "metadata": {},
     "output_type": "execute_result"
    }
   ],
   "source": [
    "set1 = {'red','green','blue','yellow'}\n",
    "set2 = {'cyan','voilet','pink','blue'}\n",
    "set1.symmetric_difference_update(set2)#15 inserts the symmetric differences from this set and another\n",
    "set1"
   ]
  },
  {
   "cell_type": "code",
   "execution_count": 31,
   "metadata": {},
   "outputs": [
    {
     "data": {
      "text/plain": [
       "{'blue', 'cyan', 'green', 'pink', 'red', 'voilet', 'yellow'}"
      ]
     },
     "execution_count": 31,
     "metadata": {},
     "output_type": "execute_result"
    }
   ],
   "source": [
    "set1 = {'red','green','blue','yellow'}\n",
    "set2 = {'cyan','voilet','pink','blue'}\n",
    "x = set1.union(set2)#16 Return a set containing the union of sets\n",
    "x"
   ]
  },
  {
   "cell_type": "code",
   "execution_count": 32,
   "metadata": {},
   "outputs": [
    {
     "data": {
      "text/plain": [
       "{'blue', 'cyan', 'green', 'pink', 'red', 'voilet', 'yellow'}"
      ]
     },
     "execution_count": 32,
     "metadata": {},
     "output_type": "execute_result"
    }
   ],
   "source": [
    "set1 = {'red','green','blue','yellow'}\n",
    "set2 = {'cyan','voilet','pink','blue'}\n",
    "set1.update(set2)#17 Update the set with the union of this set and others\n",
    "set1"
   ]
  },
  {
   "cell_type": "code",
   "execution_count": null,
   "metadata": {},
   "outputs": [],
   "source": []
  }
 ],
 "metadata": {
  "kernelspec": {
   "display_name": "Python 3",
   "language": "python",
   "name": "python3"
  },
  "language_info": {
   "codemirror_mode": {
    "name": "ipython",
    "version": 3
   },
   "file_extension": ".py",
   "mimetype": "text/x-python",
   "name": "python",
   "nbconvert_exporter": "python",
   "pygments_lexer": "ipython3",
   "version": "3.8.8"
  }
 },
 "nbformat": 4,
 "nbformat_minor": 4
}
