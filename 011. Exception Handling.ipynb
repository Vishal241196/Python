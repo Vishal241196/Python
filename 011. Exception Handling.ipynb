{
 "cells": [
  {
   "cell_type": "markdown",
   "id": "8c8f583f",
   "metadata": {},
   "source": [
    "- Error in Python can be of two types i.e. Syntax errors and Exceptions. \n",
    "- Errors are problems in a program due to which the program will stop the execution. \n",
    "- On the other hand, exceptions are raised when some internal events occur which change the normal flow of the program. \n",
    "\n",
    "### Different types of exceptions in python:\n",
    "- In Python, there are several built-in exceptions that can be raised when an error occurs during the execution of a program. Here are some of the most common types of exceptions in Python:\n",
    "\n",
    "##### 1. SyntaxError: \n",
    "- This exception is raised when the interpreter encounters a syntax error in the code, such as a misspelled keyword, a missing colon, or an unbalanced parenthesis.\n",
    "\n",
    "##### 2. TypeError: \n",
    "- This exception is raised when an operation or function is applied to an object of the wrong type, such as adding a string to an integer.\n",
    "\n",
    "##### 3. NameError:\n",
    "- This exception is raised when a variable or function name is not found in the current scope.\n",
    "\n",
    "##### 4. IndexError:\n",
    "- This exception is raised when an index is out of range for a list, tuple, or other sequence types.\n",
    "\n",
    "##### 5. KeyError:\n",
    "- This exception is raised when a key is not found in a dictionary.\n",
    "\n",
    "##### 6. ValueError:\n",
    "- This exception is raised when a function or method is called with an invalid argument or input, such as trying to convert a string to an integer when the string does not represent a valid integer.\n",
    "\n",
    "##### 7. AttributeError:\n",
    "- This exception is raised when an attribute or method is not found on an object, such as trying to access a non-existent attribute of a class instance.\n",
    "\n",
    "##### 8. IOError: \n",
    "- This exception is raised when an I/O operation, such as reading or writing a file, fails due to an input/output error.\n",
    "\n",
    "##### 9. ZeroDivisionError:\n",
    "- This exception is raised when an attempt is made to divide a number by zero.\n",
    "\n",
    "##### 10. ImportError: \n",
    "- This exception is raised when an import statement fails to find or load a module.\n",
    "\n",
    "### Try Except in Python:\n",
    "- Try and Except statement is used to handle these errors within our code in Python. \n",
    "- The try block is used to check some code for errors i.e the code inside the try block will execute when there is no error in the program. \n",
    "- Whereas the code inside the except block will execute whenever the program encounters some error in the preceding try block.\n",
    "- Syntax: try:\n",
    "            # Some Code\n",
    "          except:\n",
    "            # Executed if error in the try block\n",
    "            \n",
    "### How try() works? \n",
    "- First, the try clause is executed i.e. the code between try.\n",
    "- If there is no exception, then only the try clause will run, except clause is finished.\n",
    "- If any exception occurs, the try clause will be skipped and except clause will run.\n",
    "- If any exception occurs, but the except clause within the code doesn’t handle it, it is passed on to the outer try statements. - If the exception is left unhandled, then the execution stops.\n",
    "- A try statement can have more than one except clause\n",
    "\n",
    "### Else Clause:\n",
    "- In Python, you can also use the else clause on the try-except block which must be present after all the except clauses. \n",
    "- The code enters the else block only if the try clause does not raise an exception.\n",
    "- Syntax: try:\n",
    "            # Some Code\n",
    "          except:\n",
    "            # Executed if error in the try block\n",
    "          else:\n",
    "            # execute if no exception\n",
    "    \n",
    "### Finally Keyword:\n",
    "- Python provides a keyword finally, which is always executed after the try and except blocks. \n",
    "- The final block always executes after the normal termination of the try block or after the try block terminates due to some exceptions.\n",
    "- Syntax: try:\n",
    "            # Some Code\n",
    "          except:\n",
    "            # Executed if error in the try block\n",
    "          else:\n",
    "            # execute if no exception\n",
    "          finally:\n",
    "            # Some code .....(always executed)\n",
    "            \n",
    "### Raising Exception:\n",
    "- The raise statement allows the programmer to force a specific exception to occur. \n",
    "- The sole argument in raise indicates the exception to be raised. \n",
    "- This must be either an exception instance or an exception class (a class that derives from Exception).\n",
    "\n",
    "### Advantages of Exception Handling:\n",
    "\n",
    "##### Improved program reliability: \n",
    "- By handling exceptions properly, you can prevent your program from crashing or producing incorrect results due to unexpected errors or input.\n",
    "\n",
    "##### Simplified error handling: \n",
    "- Exception handling allows you to separate error handling code from the main program logic, making it easier to read and maintain your code.\n",
    "\n",
    "##### Cleaner code:\n",
    "- With exception handling, you can avoid using complex conditional statements to check for errors, leading to cleaner and more readable code.\n",
    "\n",
    "##### Easier debugging: \n",
    "- When an exception is raised, the Python interpreter prints a traceback that shows the exact location where the exception occurred, making it easier to debug your code.\n",
    "\n",
    "### Disadvantages of Exception Handling:\n",
    "##### Performance overhead: \n",
    "- Exception handling can be slower than using conditional statements to check for errors, as the interpreter has to perform additional work to catch and handle the exception.\n",
    "\n",
    "##### Increased code complexity: \n",
    "- Exception handling can make your code more complex, especially if you have to handle multiple types of exceptions or implement complex error handling logic.\n",
    "\n",
    "##### Possible security risks: \n",
    "- Improperly handled exceptions can potentially reveal sensitive information or create security vulnerabilities in your code, so it’s important to handle exceptions carefully and avoid exposing too much information about your program."
   ]
  },
  {
   "cell_type": "code",
   "execution_count": 1,
   "id": "524accce",
   "metadata": {},
   "outputs": [
    {
     "name": "stdout",
     "output_type": "stream",
     "text": [
      "Yeah ! Your answer is : 1\n"
     ]
    }
   ],
   "source": [
    "# Code1: No exception, so the try clause will run\n",
    "def divide(x, y):\n",
    "    try:\n",
    "        # Floor Division : Gives only Fractional Part as Answer\n",
    "        result = x // y\n",
    "        print(\"Yeah ! Your answer is :\", result)\n",
    "    except ZeroDivisionError:\n",
    "        print(\"Sorry ! You are dividing by zero \")\n",
    "\n",
    "# Look at parameters and note the working of Program\n",
    "divide(3, 2)"
   ]
  },
  {
   "cell_type": "code",
   "execution_count": 2,
   "id": "5d7e5d31",
   "metadata": {},
   "outputs": [
    {
     "name": "stdout",
     "output_type": "stream",
     "text": [
      "Sorry ! You are dividing by zero \n"
     ]
    }
   ],
   "source": [
    "# Code2: There is an exception so only except clause will run\n",
    "def divide(x, y):\n",
    "    try:\n",
    "        # Floor Division : Gives only Fractional Part as Answer\n",
    "        result = x // y\n",
    "        print(\"Yeah ! Your answer is :\", result)\n",
    "    except ZeroDivisionError:\n",
    "        print(\"Sorry ! You are dividing by zero \")\n",
    "\n",
    "# Look at parameters and note the working of Program\n",
    "divide(3, 0)"
   ]
  },
  {
   "cell_type": "code",
   "execution_count": 3,
   "id": "9a3326ab",
   "metadata": {},
   "outputs": [
    {
     "name": "stdout",
     "output_type": "stream",
     "text": [
      "-5.0\n",
      "a/b result in 0\n"
     ]
    }
   ],
   "source": [
    "# Program to depict else clause with try-except\n",
    "  \n",
    "# Function which returns a/b\n",
    "def AbyB(a , b):\n",
    "    try:\n",
    "        c = ((a+b) // (a-b))\n",
    "    except ZeroDivisionError:\n",
    "        print (\"a/b result in 0\")\n",
    "    else:\n",
    "        print (c)\n",
    "\n",
    "# Driver program to test above function\n",
    "AbyB(2.0, 3.0)\n",
    "AbyB(3.0, 3.0)"
   ]
  },
  {
   "cell_type": "code",
   "execution_count": 4,
   "id": "236df6ef",
   "metadata": {},
   "outputs": [
    {
     "name": "stdout",
     "output_type": "stream",
     "text": [
      "Can't divide by zero\n",
      "This is always executed\n"
     ]
    }
   ],
   "source": [
    "# Python program to demonstrate finally\n",
    "    \n",
    "# No exception Exception raised in try block\n",
    "try:\n",
    "    k = 5//0 # raises divide by zero exception.\n",
    "    print(k)\n",
    "    \n",
    "# handles zerodivision exception    \n",
    "except ZeroDivisionError:   \n",
    "    print(\"Can't divide by zero\")\n",
    "        \n",
    "finally:\n",
    "    # this block is always executed \n",
    "    # regardless of exception generation.\n",
    "    print('This is always executed') "
   ]
  },
  {
   "cell_type": "code",
   "execution_count": 5,
   "id": "50f5cd08",
   "metadata": {},
   "outputs": [
    {
     "name": "stdout",
     "output_type": "stream",
     "text": [
      "An exception\n"
     ]
    },
    {
     "ename": "NameError",
     "evalue": "Hi there",
     "output_type": "error",
     "traceback": [
      "\u001b[1;31m---------------------------------------------------------------------------\u001b[0m",
      "\u001b[1;31mNameError\u001b[0m                                 Traceback (most recent call last)",
      "\u001b[1;32m<ipython-input-5-015bba718ac8>\u001b[0m in \u001b[0;36m<module>\u001b[1;34m\u001b[0m\n\u001b[0;32m      2\u001b[0m \u001b[1;33m\u001b[0m\u001b[0m\n\u001b[0;32m      3\u001b[0m \u001b[1;32mtry\u001b[0m\u001b[1;33m:\u001b[0m\u001b[1;33m\u001b[0m\u001b[1;33m\u001b[0m\u001b[0m\n\u001b[1;32m----> 4\u001b[1;33m     \u001b[1;32mraise\u001b[0m \u001b[0mNameError\u001b[0m\u001b[1;33m(\u001b[0m\u001b[1;34m\"Hi there\"\u001b[0m\u001b[1;33m)\u001b[0m  \u001b[1;31m# Raise Error\u001b[0m\u001b[1;33m\u001b[0m\u001b[1;33m\u001b[0m\u001b[0m\n\u001b[0m\u001b[0;32m      5\u001b[0m \u001b[1;32mexcept\u001b[0m \u001b[0mNameError\u001b[0m\u001b[1;33m:\u001b[0m\u001b[1;33m\u001b[0m\u001b[1;33m\u001b[0m\u001b[0m\n\u001b[0;32m      6\u001b[0m     \u001b[0mprint\u001b[0m \u001b[1;33m(\u001b[0m\u001b[1;34m\"An exception\"\u001b[0m\u001b[1;33m)\u001b[0m\u001b[1;33m\u001b[0m\u001b[1;33m\u001b[0m\u001b[0m\n",
      "\u001b[1;31mNameError\u001b[0m: Hi there"
     ]
    }
   ],
   "source": [
    "# Program to depict Raising Exception\n",
    " \n",
    "try:\n",
    "    raise NameError(\"Hi there\")  # Raise Error\n",
    "except NameError:\n",
    "    print (\"An exception\")\n",
    "    raise  # To determine whether the exception was raised or not"
   ]
  },
  {
   "cell_type": "code",
   "execution_count": null,
   "id": "321bec02",
   "metadata": {},
   "outputs": [],
   "source": []
  }
 ],
 "metadata": {
  "kernelspec": {
   "display_name": "Python 3",
   "language": "python",
   "name": "python3"
  },
  "language_info": {
   "codemirror_mode": {
    "name": "ipython",
    "version": 3
   },
   "file_extension": ".py",
   "mimetype": "text/x-python",
   "name": "python",
   "nbconvert_exporter": "python",
   "pygments_lexer": "ipython3",
   "version": "3.8.8"
  }
 },
 "nbformat": 4,
 "nbformat_minor": 5
}
