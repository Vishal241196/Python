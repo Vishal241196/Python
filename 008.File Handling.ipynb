{
 "cells": [
  {
   "cell_type": "markdown",
   "id": "c717f4bc",
   "metadata": {},
   "source": [
    "# File Handling:\n",
    "- The Ram is volatile and all its contents are lost once a program terminate.\n",
    "- In order to persist the data forever, We use files.\n",
    "- A file is a data, stored in a storage device.\n",
    "- A python program can talk to the file after open it, read and write content from it.\n",
    "- In Python, files are treated in two modes as text or binary. \n",
    "- The file may be in the text or binary format, and each line of a file is ended with the special character.\n",
    "- File operation can be done in the following order.\n",
    "    - Open a file\n",
    "    - Read or write - Performing operation\n",
    "    - Close the file\n",
    "    \n",
    "### Open File:\n",
    "- Before performing any operation on the file like reading or writing, first, we have to open that file.\n",
    "- We should use Python’s inbuilt function open() but at the time of opening, \n",
    "- It accepts two arguments, file name and access mode \n",
    "- Syntax: f = open(filename, mode)\n",
    "- Where the following mode is supported:\n",
    "    -  r:  open an existing file for a read operation.\n",
    "    -  w:  open an existing file for a write operation. \n",
    "           If the file already contains some data then it will be overridden but \n",
    "           If the file is not present then it creates the file as well.\n",
    "    -  a:  open an existing file for append operation. It won’t override existing data.\n",
    "    - r+:  To read and write data into the file. The previous data in the file will be overridden.\n",
    "    - w+:  To write and read data. It will override existing data.\n",
    "    - a+:  To append and read data from the file. It won’t override existing data.\n",
    "    \n",
    "### Read File:\n",
    "- The open() function returns a file object, which has a read() method for reading the content of the file.\n",
    "- Syntax: f = open(\"demofile.txt\", \"r\")\n",
    "          print(f.read())\n",
    "- We can also specify how many characters you want to return, ex: print(f.read(5))\n",
    "- We can return one line by using the readline() method, ex: print(f.readline())\n",
    "- If we use the readline() method two times, then we can get the first two lines of the file.\n",
    "- We can returns the list of the lines till the end of file(EOF) is reached by using the readlines() method, ex: print(f.readlines()).\n",
    "\n",
    "### Write File:\n",
    "- To write some text to a file, we need to open the file using the open method with one of the following access modes.\n",
    "- w: It will overwrite the file if any file exists. The file pointer is at the beginning of the file.\n",
    "- Syntax: f = open(\"demofile.txt\", \"r\")\n",
    "          print(f.write(\"python\"))\n",
    "          \n",
    "- a: It will append the existing file. The file pointer is at the end of the file. It creates a new file if no file exists.\n",
    "- Syntax: f = open(\"demofile.txt\", \"r\")\n",
    "          print(f.write(\"language\"))\n",
    "\n",
    "### Close File:\n",
    "- Once all the operations are done on the file, we must close file through close() method.\n",
    "- Syntax: f = open(\"demofile.txt\", \"r\")\n",
    "          print(f.read())\n",
    "          f.close()   \n",
    "          \n",
    "### Creating a new file:\n",
    "- The new file can be created by using one of the following access modes with the function open().\n",
    "- x: it creates a new file with the specified name. It causes an error a file exists with the same name.\n",
    "- a: It creates a new file with the specified name if no such file exists. It appends the content to the file if the file already exists with the specified name.\n",
    "- w: It creates a new file with the specified name if no such file exists. It overwrites the existing file."
   ]
  },
  {
   "cell_type": "code",
   "execution_count": 2,
   "id": "c156f236",
   "metadata": {},
   "outputs": [
    {
     "name": "stdout",
     "output_type": "stream",
     "text": [
      "<_io.TextIOWrapper name='C:\\\\Users\\\\admin\\\\New_Folder\\\\Python_Tutorial\\\\file2.txt' mode='x' encoding='cp1252'>\n",
      "File created successfully\n"
     ]
    }
   ],
   "source": [
    "#Creating a new file:\n",
    "file = open(r\"C:\\Users\\admin\\New_Folder\\Python_Tutorial\\file2.txt\",\"x\")   \n",
    "print(file)    \n",
    "if file:    \n",
    "    print(\"File created successfully\")"
   ]
  },
  {
   "cell_type": "code",
   "execution_count": 3,
   "id": "72724f67",
   "metadata": {},
   "outputs": [],
   "source": [
    "# Write a file\n",
    "file = open(r\"C:\\Users\\admin\\New_Folder\\Python_Tutorial\\file2.txt\",'w')\n",
    "file.write(\"This is the write command\")\n",
    "file.write(\"It allows us to write in a particular file\")\n",
    "# Close a file\n",
    "file.close()\n"
   ]
  },
  {
   "cell_type": "code",
   "execution_count": 4,
   "id": "5182b942",
   "metadata": {},
   "outputs": [],
   "source": [
    "# Append data in a file\n",
    "file = open(r\"C:\\Users\\admin\\New_Folder\\Python_Tutorial\\file2.txt\", 'a')\n",
    "file.write(\"This will add this line\")\n",
    "file.close()\n"
   ]
  },
  {
   "cell_type": "code",
   "execution_count": 6,
   "id": "2935061b",
   "metadata": {},
   "outputs": [
    {
     "name": "stdout",
     "output_type": "stream",
     "text": [
      "This is the write commandIt allows us to write in a particular fileThis will add this line\n"
     ]
    }
   ],
   "source": [
    "# Read a file\n",
    "file = open(r\"C:\\Users\\admin\\New_Folder\\Python_Tutorial\\file2.txt\", \"r\")\n",
    "print (file.read())\n"
   ]
  },
  {
   "cell_type": "code",
   "execution_count": 9,
   "id": "434fc25b",
   "metadata": {},
   "outputs": [
    {
     "name": "stdout",
     "output_type": "stream",
     "text": [
      "This is th\n"
     ]
    }
   ],
   "source": [
    "file = open(r\"C:\\Users\\admin\\New_Folder\\Python_Tutorial\\file2.txt\", \"r\")\n",
    "print (file.read(10))"
   ]
  },
  {
   "cell_type": "code",
   "execution_count": 11,
   "id": "5551f68e",
   "metadata": {},
   "outputs": [
    {
     "name": "stdout",
     "output_type": "stream",
     "text": [
      "This is the write commandIt allows us to write in a particular file\n",
      "\n"
     ]
    }
   ],
   "source": [
    "file = open(r\"C:\\Users\\admin\\New_Folder\\Python_Tutorial\\file2.txt\", \"r\")\n",
    "print (file.readline())"
   ]
  },
  {
   "cell_type": "code",
   "execution_count": 12,
   "id": "84b94b2a",
   "metadata": {},
   "outputs": [
    {
     "name": "stdout",
     "output_type": "stream",
     "text": [
      "This is the write commandIt allows us to write in a particular file\n",
      "\n",
      "This will add this line\n"
     ]
    }
   ],
   "source": [
    "file = open(r\"C:\\Users\\admin\\New_Folder\\Python_Tutorial\\file2.txt\", \"r\")\n",
    "print (file.readline())\n",
    "print (file.readline())"
   ]
  },
  {
   "cell_type": "code",
   "execution_count": 13,
   "id": "2584c726",
   "metadata": {},
   "outputs": [
    {
     "name": "stdout",
     "output_type": "stream",
     "text": [
      "['This is the write commandIt allows us to write in a particular file\\n', 'This will add this line']\n"
     ]
    }
   ],
   "source": [
    "file = open(r\"C:\\Users\\admin\\New_Folder\\Python_Tutorial\\file2.txt\", \"r\")\n",
    "print (file.readlines())"
   ]
  },
  {
   "cell_type": "code",
   "execution_count": 14,
   "id": "823cec8f",
   "metadata": {},
   "outputs": [
    {
     "name": "stdout",
     "output_type": "stream",
     "text": [
      "File example.txt created successfully.\n",
      "Hello, world!\n",
      "\n",
      "Text appended to file example.txt successfully.\n",
      "Hello, world!\n",
      "This is some additional text.\n",
      "\n",
      "File example.txt renamed to new_example.txt successfully.\n",
      "Hello, world!\n",
      "This is some additional text.\n",
      "\n",
      "File new_example.txt deleted successfully.\n"
     ]
    }
   ],
   "source": [
    "#Implementing all the functions in file handling\n",
    "import os\n",
    "\n",
    "def create_file(filename):\n",
    "    try:\n",
    "        with open(filename, 'w') as f:\n",
    "            f.write('Hello, world!\\n')\n",
    "        print(\"File \" + filename + \" created successfully.\")\n",
    "    except IOError:\n",
    "        print(\"Error: could not create file \" + filename)\n",
    "\n",
    "def read_file(filename):\n",
    "    try:\n",
    "        with open(filename, 'r') as f:\n",
    "            contents = f.read()\n",
    "            print(contents)\n",
    "    except IOError:\n",
    "        print(\"Error: could not read file \" + filename)\n",
    "\n",
    "def append_file(filename, text):\n",
    "    try:\n",
    "        with open(filename, 'a') as f:\n",
    "            f.write(text)\n",
    "        print(\"Text appended to file \" + filename + \" successfully.\")\n",
    "    except IOError:\n",
    "        print(\"Error: could not append to file \" + filename)\n",
    "\n",
    "def rename_file(filename, new_filename):\n",
    "    try:\n",
    "        os.rename(filename, new_filename)\n",
    "        print(\"File \" + filename + \" renamed to \" + new_filename + \" successfully.\")\n",
    "    except IOError:\n",
    "        print(\"Error: could not rename file \" + filename)\n",
    "\n",
    "def delete_file(filename):\n",
    "    try:\n",
    "        os.remove(filename)\n",
    "        print(\"File \" + filename + \" deleted successfully.\")\n",
    "    except IOError:\n",
    "        print(\"Error: could not delete file \" + filename)\n",
    "\n",
    "\n",
    "if __name__ == '__main__':\n",
    "    filename = \"example.txt\"\n",
    "    new_filename = \"new_example.txt\"\n",
    "\n",
    "    create_file(filename)\n",
    "    read_file(filename)\n",
    "    append_file(filename, \"This is some additional text.\\n\")\n",
    "    read_file(filename)\n",
    "    rename_file(filename, new_filename)\n",
    "    read_file(new_filename)\n",
    "    delete_file(new_filename)\n"
   ]
  },
  {
   "cell_type": "code",
   "execution_count": null,
   "id": "ba97f0f0",
   "metadata": {},
   "outputs": [],
   "source": []
  }
 ],
 "metadata": {
  "kernelspec": {
   "display_name": "Python 3",
   "language": "python",
   "name": "python3"
  },
  "language_info": {
   "codemirror_mode": {
    "name": "ipython",
    "version": 3
   },
   "file_extension": ".py",
   "mimetype": "text/x-python",
   "name": "python",
   "nbconvert_exporter": "python",
   "pygments_lexer": "ipython3",
   "version": "3.8.8"
  }
 },
 "nbformat": 4,
 "nbformat_minor": 5
}
