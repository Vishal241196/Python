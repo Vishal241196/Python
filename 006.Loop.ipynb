{
 "cells": [
  {
   "cell_type": "markdown",
   "metadata": {},
   "source": [
    "### While Loop : \n",
    " With the while loop we can execute a set of statements as long as a condition is true.\n"
   ]
  },
  {
   "cell_type": "code",
   "execution_count": 36,
   "metadata": {},
   "outputs": [
    {
     "name": "stdout",
     "output_type": "stream",
     "text": [
      "1\n",
      "2\n",
      "3\n",
      "4\n",
      "5\n",
      "6\n",
      "7\n",
      "8\n",
      "9\n",
      "10\n"
     ]
    }
   ],
   "source": [
    "i=1\n",
    "while i <=10:\n",
    "    print(i)\n",
    "    i = i + 1"
   ]
  },
  {
   "cell_type": "code",
   "execution_count": 37,
   "metadata": {},
   "outputs": [
    {
     "name": "stdout",
     "output_type": "stream",
     "text": [
      "2  *  1  =  2\n",
      "2  *  2  =  4\n",
      "2  *  3  =  6\n",
      "2  *  4  =  8\n",
      "2  *  5  =  10\n",
      "2  *  6  =  12\n",
      "2  *  7  =  14\n",
      "2  *  8  =  16\n",
      "2  *  9  =  18\n",
      "2  *  10  =  20\n"
     ]
    }
   ],
   "source": [
    "i = 1\n",
    "n = 2\n",
    "while i <=  10:\n",
    "    print(n , \" * \", i, \" = \",i * n)\n",
    "    i = i+1\n"
   ]
  },
  {
   "cell_type": "code",
   "execution_count": 38,
   "metadata": {},
   "outputs": [
    {
     "data": {
      "text/plain": [
       "[101, 102, 103, 104, 105]"
      ]
     },
     "execution_count": 38,
     "metadata": {},
     "output_type": "execute_result"
    }
   ],
   "source": [
    "# while with list\n",
    "l1 = [1,2,3,4,5]\n",
    "i=0\n",
    "while i<len(l1):\n",
    "    l1[i]=l1[i]+100\n",
    "    i = i+1\n",
    "l1"
   ]
  },
  {
   "cell_type": "code",
   "execution_count": 39,
   "metadata": {},
   "outputs": [
    {
     "name": "stdout",
     "output_type": "stream",
     "text": [
      "1\n",
      "2\n",
      "3\n"
     ]
    }
   ],
   "source": [
    "i = 1\n",
    "while i < 6:\n",
    "    print(i)\n",
    "    if i == 3:\n",
    "        break\n",
    "    i = i+ 1"
   ]
  },
  {
   "cell_type": "code",
   "execution_count": 40,
   "metadata": {
    "collapsed": true
   },
   "outputs": [
    {
     "name": "stdout",
     "output_type": "stream",
     "text": [
      "1\n",
      "2\n",
      "4\n",
      "5\n",
      "6\n"
     ]
    }
   ],
   "source": [
    "i = 0\n",
    "while i < 6:\n",
    "    i = i + 1\n",
    "    if i == 3:\n",
    "        continue\n",
    "    print(i)"
   ]
  },
  {
   "cell_type": "code",
   "execution_count": 41,
   "metadata": {
    "collapsed": true
   },
   "outputs": [
    {
     "name": "stdout",
     "output_type": "stream",
     "text": [
      "1\n",
      "2\n",
      "3\n",
      "4\n",
      "5\n",
      "i is no longer less than 6\n"
     ]
    }
   ],
   "source": [
    "i = 1\n",
    "while i < 6:\n",
    "    print(i)\n",
    "    i = i + 1\n",
    "else:\n",
    "    print(\"i is no longer less than 6\")"
   ]
  },
  {
   "cell_type": "code",
   "execution_count": 43,
   "metadata": {},
   "outputs": [
    {
     "name": "stdout",
     "output_type": "stream",
     "text": [
      "Current Letter : j\n",
      "Current Letter : v\n",
      "Current Letter : p\n",
      "Current Letter : o\n",
      "Current Letter : i\n",
      "Current Letter : n\n"
     ]
    }
   ],
   "source": [
    "# prints all letters except 'a' and 't'   \n",
    "i = 0  \n",
    "str1 = 'javatpoint'  \n",
    "  \n",
    "while i < len(str1):   \n",
    "    if str1[i] == 'a' or str1[i] == 't':   \n",
    "        i += 1  \n",
    "        continue  \n",
    "    print('Current Letter :', str1[i])   \n",
    "    i += 1  "
   ]
  },
  {
   "cell_type": "markdown",
   "metadata": {},
   "source": [
    "### For Loop\n",
    " A for loop is used for iterating over a sequence (that is either a list, a tuple, a dictionary, a set, or a string)"
   ]
  },
  {
   "cell_type": "code",
   "execution_count": 1,
   "metadata": {},
   "outputs": [
    {
     "name": "stdout",
     "output_type": "stream",
     "text": [
      "P\n",
      "y\n",
      "t\n",
      "h\n",
      "o\n",
      "n\n"
     ]
    }
   ],
   "source": [
    "str = \"Python\"  \n",
    "for i in str:  \n",
    "    print(i)  "
   ]
  },
  {
   "cell_type": "code",
   "execution_count": 2,
   "metadata": {},
   "outputs": [
    {
     "name": "stdout",
     "output_type": "stream",
     "text": [
      "0\n",
      "5\n",
      "10\n",
      "15\n",
      "20\n",
      "25\n",
      "30\n",
      "35\n",
      "40\n",
      "45\n"
     ]
    }
   ],
   "source": [
    "lit = [0,1,2,3,4,5,6,7,8,9]\n",
    "n=5\n",
    "for i in lit:\n",
    "    c= n*i\n",
    "    print(c)"
   ]
  },
  {
   "cell_type": "code",
   "execution_count": 3,
   "metadata": {},
   "outputs": [
    {
     "name": "stdout",
     "output_type": "stream",
     "text": [
      "183\n"
     ]
    }
   ],
   "source": [
    "list = [10,30,23,43,65,12] \n",
    "sum = 0\n",
    "for i in list:\n",
    "    sum=sum+i\n",
    "print(sum)"
   ]
  },
  {
   "cell_type": "code",
   "execution_count": 4,
   "metadata": {},
   "outputs": [
    {
     "name": "stdout",
     "output_type": "stream",
     "text": [
      "mango\n",
      "apple\n",
      "grapes\n",
      "orange\n"
     ]
    }
   ],
   "source": [
    "l1 = ['mango','apple','grapes','orange']\n",
    "for i in l1:\n",
    "    print(i)"
   ]
  },
  {
   "cell_type": "code",
   "execution_count": 5,
   "metadata": {},
   "outputs": [
    {
     "name": "stdout",
     "output_type": "stream",
     "text": [
      "orange chair\n",
      "orange book\n",
      "orange laptop\n",
      "black chair\n",
      "black book\n",
      "black laptop\n",
      "white chair\n",
      "white book\n",
      "white laptop\n"
     ]
    }
   ],
   "source": [
    "l1 = ['orange','black','white']\n",
    "l2 = ['chair','book','laptop']\n",
    "for i in l1:\n",
    "    for j in l2:\n",
    "        print(i,j)\n",
    "        "
   ]
  },
  {
   "cell_type": "raw",
   "metadata": {},
   "source": [
    "The range() function : used to generate the sequence of the numbers. \n",
    "                       If we pass the range(10), it will generate the numbers from 0 to 9.  \n",
    "                       The syntax of the range() function is given below.\n",
    "                       range(start,stop,step size)  \n",
    "\n",
    "The len() function is combined with range() function which iterate through a sequence using indexing"
   ]
  },
  {
   "cell_type": "code",
   "execution_count": 17,
   "metadata": {},
   "outputs": [
    {
     "name": "stdout",
     "output_type": "stream",
     "text": [
      "0 1 2 3 4 5 6 7 8 9 "
     ]
    }
   ],
   "source": [
    "for i in range(10):  \n",
    "    print(i,end = ' ')  "
   ]
  },
  {
   "cell_type": "code",
   "execution_count": 9,
   "metadata": {},
   "outputs": [
    {
     "name": "stdout",
     "output_type": "stream",
     "text": [
      "5 x 0 = 0\n",
      "5 x 1 = 5\n",
      "5 x 2 = 10\n",
      "5 x 3 = 15\n",
      "5 x 4 = 20\n",
      "5 x 5 = 25\n",
      "5 x 6 = 30\n",
      "5 x 7 = 35\n",
      "5 x 8 = 40\n",
      "5 x 9 = 45\n"
     ]
    }
   ],
   "source": [
    "n = 5\n",
    "for i in range(10):\n",
    "    product = n*i\n",
    "    print(n,\"x\",i,\"=\",product)"
   ]
  },
  {
   "cell_type": "code",
   "execution_count": 10,
   "metadata": {},
   "outputs": [
    {
     "name": "stdout",
     "output_type": "stream",
     "text": [
      "5 x 1 = 5\n",
      "5 x 2 = 10\n",
      "5 x 3 = 15\n",
      "5 x 4 = 20\n",
      "5 x 5 = 25\n",
      "5 x 6 = 30\n",
      "5 x 7 = 35\n",
      "5 x 8 = 40\n",
      "5 x 9 = 45\n",
      "5 x 10 = 50\n"
     ]
    }
   ],
   "source": [
    "n = 5\n",
    "for i in range(1,11):\n",
    "    product = n*i\n",
    "    print(n,\"x\",i,\"=\",product)"
   ]
  },
  {
   "cell_type": "code",
   "execution_count": 11,
   "metadata": {},
   "outputs": [
    {
     "name": "stdout",
     "output_type": "stream",
     "text": [
      "5 x 1 = 5\n",
      "5 x 6 = 30\n",
      "5 x 11 = 55\n",
      "5 x 16 = 80\n",
      "5 x 21 = 105\n",
      "5 x 26 = 130\n",
      "5 x 31 = 155\n",
      "5 x 36 = 180\n",
      "5 x 41 = 205\n",
      "5 x 46 = 230\n"
     ]
    }
   ],
   "source": [
    "n = 5\n",
    "for i in range(1,51,5):\n",
    "    product = n*i\n",
    "    print(n,\"x\",i,\"=\",product)"
   ]
  },
  {
   "cell_type": "code",
   "execution_count": 16,
   "metadata": {},
   "outputs": [
    {
     "name": "stdout",
     "output_type": "stream",
     "text": [
      "Colour 0 : orange\n",
      "Colour 1 : black\n",
      "Colour 2 : white\n"
     ]
    }
   ],
   "source": [
    "l1 = ['orange','black','white']\n",
    "for i in range(len(l1)):\n",
    "    print(\"Colour\",i,\":\",l1[i])"
   ]
  },
  {
   "cell_type": "code",
   "execution_count": 18,
   "metadata": {},
   "outputs": [
    {
     "name": "stdout",
     "output_type": "stream",
     "text": [
      "Enter No of Rows5\n",
      "\n",
      "*\n",
      "**\n",
      "***\n",
      "****\n",
      "*****\n"
     ]
    }
   ],
   "source": [
    "#pattern\n",
    "row = int(input(\"Enter No of Rows\"))\n",
    "\n",
    "for i in range(0,row+1):\n",
    "    for j in range(i):\n",
    "        print(\"*\",end=\"\")\n",
    "    print()"
   ]
  },
  {
   "cell_type": "code",
   "execution_count": 35,
   "metadata": {},
   "outputs": [
    {
     "name": "stdout",
     "output_type": "stream",
     "text": [
      "enter no of rows6\n",
      "\n",
      "1\n",
      "22\n",
      "333\n",
      "4444\n",
      "55555\n",
      "666666\n"
     ]
    }
   ],
   "source": [
    "row = int(input(\"enter no of rows\"))\n",
    "for i in range(0,row+1):\n",
    "    for j in range(i):\n",
    "        print(i, end=\"\")\n",
    "    print()"
   ]
  }
 ],
 "metadata": {
  "kernelspec": {
   "display_name": "Python 3",
   "language": "python",
   "name": "python3"
  },
  "language_info": {
   "codemirror_mode": {
    "name": "ipython",
    "version": 3
   },
   "file_extension": ".py",
   "mimetype": "text/x-python",
   "name": "python",
   "nbconvert_exporter": "python",
   "pygments_lexer": "ipython3",
   "version": "3.8.8"
  }
 },
 "nbformat": 4,
 "nbformat_minor": 4
}
