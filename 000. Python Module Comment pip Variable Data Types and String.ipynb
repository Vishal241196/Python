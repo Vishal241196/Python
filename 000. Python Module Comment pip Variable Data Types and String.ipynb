{
 "cells": [
  {
   "cell_type": "markdown",
   "id": "46367427",
   "metadata": {},
   "source": [
    "# Python :\n",
    "- Python is a simple, interpreted, interactive, object oriented, open source and high level programming language.\n",
    "\n",
    "### Features :\n",
    "\n",
    "##### Simple/General Purpose : \n",
    "- It's so easy to learn B'coz the syntax is similar to the english language and \n",
    "- Python syntax, allow developer to write program with fewer lines as compair to other programming language. \n",
    "\n",
    "##### Free and Open Source :\n",
    "- Freely available at the official website.\n",
    "- Open source, means source code is available to the public. So we can download it, use it as well as share it.\n",
    "\n",
    "##### GUI(Graphical User Interface) Programmimg Support :\n",
    "- GUI can be made using a module such as PyQt5, PyQt4, wxPython or TK in python.\n",
    "- PyQt5 is the most common option for creating graphical apps with python.\n",
    "\n",
    "##### Large Standard Library :\n",
    "- Python has large standard library which provides a rich set set of module and function\n",
    "- Example : regular expressions, uni testing, web browsers etc.\n",
    "\n",
    "##### Expressive Language :\n",
    "- Single line of python code can do more than a single line of code in other language.\n",
    "- The fewer line of code, faster we can complete our project, easier to maintain and debug.\n",
    "\n",
    "##### Object Oriented Language :\n",
    "- Python support OOL and concepts of classes, object and encapsulation etc.\n",
    "\n",
    "### Python Application :\n",
    "\n",
    "##### Web development :\n",
    "- Python can used to make web application using frame work like Django, Flask, Pyramid.\n",
    "\n",
    "##### Desktop GUI :\n",
    "- We use python to program desktop application example calculator.\n",
    "\n",
    "##### Business Application :\n",
    "\n",
    "##### Console Based Application :\n",
    "\n",
    "##### Software development :\n",
    "\n",
    "##### Scientific and Numeric :\n",
    "\n",
    "##### Audio and Video Application :\n",
    "\n",
    "##### 3D CAD Application :\n",
    "\n",
    "##### Game Development :\n",
    "\n",
    "##### Machine Learning and Artificial Intelligence :\n",
    "\n"
   ]
  },
  {
   "cell_type": "markdown",
   "id": "61ea3d80",
   "metadata": {},
   "source": [
    "# Module:\n",
    "- A module is a file containing code \n",
    "- can be imported and used in our programs\n",
    "\n",
    "### Types of Module:\n",
    "\n",
    "##### Build in module: \n",
    "- Pre installed in python \n",
    "- e.g. os,abc etc.\n",
    "\n",
    "##### External nodule:\n",
    "- Need to install using pip\n",
    "- e.g. Flask, Tensorflow etc.\n",
    "\n",
    "# pip:\n",
    "- pip is the package manager for python\n",
    "- used for intallation of a module on our system\n",
    "\n",
    "# Comments: \n",
    "- Comments are used to write something which the programmer doesn't want to execute.\n",
    "\n",
    "### Type of Comments:\n",
    "\n",
    "##### Single Line:\n",
    "- Written using #\n",
    "\n",
    "##### Multi Line:\n",
    "- Written using ''' comment '''\n",
    "\n",
    "### Variable: \n",
    "- A Variable is the name given to a memory location in a program.\n",
    "- Variable is a container to store a value\n",
    "- e.g. a=30, b='Harry', c=71.2, d='''my name is xyz'''\n",
    "\n",
    "### Data Types:\n",
    "- Primarly there are following data types in python\n",
    "\n",
    "##### integers:\n",
    "- e.g. 1, 2, -1, -3\n",
    "\n",
    "##### float:\n",
    "- e.g. 1.5, 0.5, -1.5\n",
    "\n",
    "##### string:\n",
    "- e.g. 'abc', \"Ram\", '''vishal'''\n",
    "\n",
    "##### boolean:\n",
    "- e.g. True, False\n",
    "\n",
    "##### none:\n",
    "- nothing, than we use None\n",
    "\n",
    "### Identifiers:\n",
    "- The identifier is a name used to identify a variable, function, class, module, etc. \n",
    "- The identifier is a combination of character digits and underscore. \n",
    "- The identifier should start with a character or Underscore then use a digit. \n",
    "- The characters are A-Z or a-z, an UnderScore ( _ ) , and digit (0-9). \n",
    "- we should not use special characters(#,@,%,!) in identifiers.\n",
    "- Examples of valid identifiers : var1, _var1, _1_var, var_1\n",
    "- Examples of invalid identifiers : !var1, 1var, 1_var, var#1\n",
    "\n",
    "### Rule's to define varibles: \n",
    "- Can contian alphabets(ex: one, name), digits(ex: 2,3,4), underscores(ex: _)\n",
    "- Can only start with an alphabets(ex: firstName) and underscores(ex: _firstName)\n",
    "- Can't start with digit(ex: 1stname)\n",
    "- No whitespace is allowed to be used inside a varible name(ex: one 2)\n",
    "\n",
    "### Keyword: \n",
    "- Reserved word in python\n",
    "\n",
    "       S.N.   Keyword\t  Description\n",
    "        01.   and\t      A logical operator\n",
    "        02.   as\t      To create an alias\n",
    "        03.   assert\t  For debugging\n",
    "        04.   break\t      To break out of a loop\n",
    "        05.   class\t      To define a class\n",
    "        06.   continue\t  To continue to the next iteration of a loop\n",
    "        07.   def\t      To define a function\n",
    "        08.   del\t      To delete an object\n",
    "        09.   elif\t      Used in conditional statements, same as else if\n",
    "        10.   else\t      Used in conditional statements\n",
    "        11.   except      Used with exceptions, what to do when an exception occurs\n",
    "        12.   False\t      Boolean value, result of comparison operations\n",
    "        13.   finally\t  Used with exceptions, a block of code that will be executed no matter if there is an exception or not\n",
    "        14.   for\t      To create a for loop\n",
    "        15.   from\t      To import specific parts of a module\n",
    "        16.   global\t  To declare a global variable\n",
    "        17.   if\t      To make a conditional statement\n",
    "        18.   import   \t  To import a module\n",
    "        19.   in\t      To check if a value is present in a list, tuple, etc.\n",
    "        20.   is\t      To test if two variables are equal\n",
    "        21.   lambda  \t  To create an anonymous function\n",
    "        22.   None\t      Represents a null value\n",
    "        23.   nonlocal\t  To declare a non-local variable\n",
    "        24.   not\t      A logical operator\n",
    "        25.   or\t      A logical operator\n",
    "        26.   pass\t      A null statement, a statement that will do nothing\n",
    "        27.   raise\t      To raise an exception\n",
    "        28.   return\t  To exit a function and return a value\n",
    "        29.   True\t      Boolean value, result of comparison operations\n",
    "        30.   try\t      To make a try...except statement\n",
    "        31.   while\t      To create a while loop\n",
    "        32.   with\t      Used to simplify exception handling\n",
    "        33.   yield\t      To end a function, returns a generator\n",
    "    \n",
    "\n"
   ]
  },
  {
   "cell_type": "markdown",
   "id": "a621a756",
   "metadata": {},
   "source": [
    "### Operators:\n",
    "- Following are some common operators in python\n",
    "\n",
    "#### Arithmetic Operator:\n",
    "- \"+\",\"-\",\"*\",\"/\", etc.\n",
    "\n",
    "#### Assignment Operator:\n",
    "- \"=\",\"+=\",\"-=\",\"*=\", etc.\n",
    "\n",
    "#### Comparison Operator:\n",
    "- \"==\",\">=\",\">\",\"!=\", etc.\n",
    "\n",
    "#### Logical Operator:\n",
    "- \"and\", \"or\", \"not\"\n",
    "\n",
    "### Type() and Type Casting:\n",
    "- type() is used to find the data type of a variable\n",
    "- ex: a = 30 and type(a) = int\n",
    "- type casting is method which convert varible from one type to other type\n",
    "- ex: a = 30, float(a) = 30.0\n",
    "\n",
    "### input():\n",
    "- Allow user to take input as string\n",
    "- ex: name = input(\"enter name\")"
   ]
  },
  {
   "cell_type": "markdown",
   "id": "a81d4fdf",
   "metadata": {},
   "source": [
    "### String: \n",
    "- Data type in python\n",
    "- Sequence of character enclosed in quotes(single quote-> 'a', Double quote-> \"a\", Triple quote-> '''a''')\n",
    "\n",
    "#### String Slicing:\n",
    "- name = 'MSDhoni'\n",
    "- name[0:3] = 'MSD'\n",
    "- name[1:6:2] = 'Shn'\n",
    "- name[:7] = 'MSDhoni'\n",
    "- name[0:] = 'MSDhoni'\n",
    "- name[:] = 'MSDhoni'\n",
    "\n",
    "#### String Method:\n",
    "\n",
    "    S.N.          Method\tDescription\n",
    "     01.     capitalize()\tConverts the first character to upper case\n",
    "     02.       casefold()\tConverts string into lower case\n",
    "     03.         center()\tReturns a centered string\n",
    "     04.          count()\tReturns the number of times a specified value occurs in a string\n",
    "     05.         encode()\tReturns an encoded version of the string\n",
    "     06.       endswith()\tReturns true if the string ends with the specified value\n",
    "     07.     expandtabs()\tSets the tab size of the string\n",
    "     08.           find()\tSearches the string for a specified value and returns the position of where it was found\n",
    "     09.         format()\tFormats specified values in a string\n",
    "     10.     format_map()\tFormats specified values in a string\n",
    "     11.          index()\tSearches the string for a specified value and returns the position of where it was found\n",
    "     12.        isalnum()\tReturns True if all characters in the string are alphanumeric\n",
    "     13.        isalpha()\tReturns True if all characters in the string are in the alphabet\n",
    "     14.        isascii()\tReturns True if all characters in the string are ascii characters\n",
    "     15.      isdecimal()\tReturns True if all characters in the string are decimals\n",
    "     16.        isdigit()\tReturns True if all characters in the string are digits\n",
    "     17.   isidentifier()\tReturns True if the string is an identifier\n",
    "     18.        islower()\tReturns True if all characters in the string are lower case\n",
    "     19.      isnumeric()\tReturns True if all characters in the string are numeric\n",
    "     20.    isprintable()\tReturns True if all characters in the string are printable\n",
    "     21.        isspace()\tReturns True if all characters in the string are whitespaces\n",
    "     22.        istitle()\tReturns True if the string follows the rules of a title\n",
    "     23.        isupper()\tReturns True if all characters in the string are upper case\n",
    "     24.           join()\tConverts the elements of an iterable into a string\n",
    "     25.          ljust()\tReturns a left justified version of the string\n",
    "     26.          lower()\tConverts a string into lower case\n",
    "     27.         lstrip()\tReturns a left trim version of the string\n",
    "     28.      maketrans()\tReturns a translation table to be used in translations\n",
    "     29.      partition()\tReturns a tuple where the string is parted into three parts\n",
    "     30.        replace()\tReturns a string where a specified value is replaced with a specified value\n",
    "     31.          rfind()\tSearches the string for a specified value and returns the last position of where it was found\n",
    "     32.         rindex()\tSearches the string for a specified value and returns the last position of where it was found\n",
    "     33.          rjust()\tReturns a right justified version of the string\n",
    "     34.     rpartition()\tReturns a tuple where the string is parted into three parts\n",
    "     35.         rsplit()\tSplits the string at the specified separator, and returns a list\n",
    "     36.         rstrip()\tReturns a right trim version of the string\n",
    "     37.          split()\tSplits the string at the specified separator, and returns a list\n",
    "     38.     splitlines()\tSplits the string at line breaks and returns a list\n",
    "     39.     startswith()\tReturns true if the string starts with the specified value\n",
    "     40.          strip()\tReturns a trimmed version of the string\n",
    "     41.       swapcase()\tSwaps cases, lower case becomes upper case and vice versa\n",
    "     42.          title()\tConverts the first character of each word to upper case\n",
    "     43.      translate()\tReturns a translated string\n",
    "     44.          upper()\tConverts a string into upper case\n",
    "     45.          zfill()\tFills the string with a specified number of 0 values at the beginning."
   ]
  },
  {
   "cell_type": "code",
   "execution_count": 75,
   "id": "959312bc",
   "metadata": {},
   "outputs": [
    {
     "data": {
      "text/plain": [
       "'Hello, and welcome12 to my world.'"
      ]
     },
     "execution_count": 75,
     "metadata": {},
     "output_type": "execute_result"
    }
   ],
   "source": [
    "txt = \"hello, and Welcome12 to my world.\"\n",
    "txt.capitalize() # Converts the first character to upper case"
   ]
  },
  {
   "cell_type": "code",
   "execution_count": 65,
   "id": "fb480728",
   "metadata": {},
   "outputs": [
    {
     "data": {
      "text/plain": [
       "'hello, and welcome 12 to my world.'"
      ]
     },
     "execution_count": 65,
     "metadata": {},
     "output_type": "execute_result"
    }
   ],
   "source": [
    "txt.casefold() # Converts string into lower case"
   ]
  },
  {
   "cell_type": "code",
   "execution_count": 66,
   "id": "462d872a",
   "metadata": {},
   "outputs": [
    {
     "data": {
      "text/plain": [
       "'                       hello, and Welcome 12 to my world.                       '"
      ]
     },
     "execution_count": 66,
     "metadata": {},
     "output_type": "execute_result"
    }
   ],
   "source": [
    "txt.center(80) # Returns a centered string"
   ]
  },
  {
   "cell_type": "code",
   "execution_count": 67,
   "id": "ee387213",
   "metadata": {},
   "outputs": [
    {
     "data": {
      "text/plain": [
       "4"
      ]
     },
     "execution_count": 67,
     "metadata": {},
     "output_type": "execute_result"
    }
   ],
   "source": [
    "txt.count('o') # Returns the number of times a specified value occurs in a string"
   ]
  },
  {
   "cell_type": "code",
   "execution_count": 68,
   "id": "799e7e8a",
   "metadata": {},
   "outputs": [
    {
     "data": {
      "text/plain": [
       "b'hello, and Welcome 12 to my world.'"
      ]
     },
     "execution_count": 68,
     "metadata": {},
     "output_type": "execute_result"
    }
   ],
   "source": [
    "txt.encode() # Returns an encoded version of the string"
   ]
  },
  {
   "cell_type": "code",
   "execution_count": 69,
   "id": "6772ab31",
   "metadata": {},
   "outputs": [
    {
     "data": {
      "text/plain": [
       "True"
      ]
     },
     "execution_count": 69,
     "metadata": {},
     "output_type": "execute_result"
    }
   ],
   "source": [
    "txt.endswith('.') # Returns true if the string ends with the specified value"
   ]
  },
  {
   "cell_type": "code",
   "execution_count": 70,
   "id": "44cd3002",
   "metadata": {},
   "outputs": [
    {
     "data": {
      "text/plain": [
       "'H e l l o'"
      ]
     },
     "execution_count": 70,
     "metadata": {},
     "output_type": "execute_result"
    }
   ],
   "source": [
    "x = \"H\\te\\tl\\tl\\to\"\n",
    "x.expandtabs(2) # Sets the tab size of the string"
   ]
  },
  {
   "cell_type": "code",
   "execution_count": 71,
   "id": "3298525a",
   "metadata": {},
   "outputs": [
    {
     "data": {
      "text/plain": [
       "7"
      ]
     },
     "execution_count": 71,
     "metadata": {},
     "output_type": "execute_result"
    }
   ],
   "source": [
    "txt.find('and') # Searches the string for a specified value and returns the position of where it was found"
   ]
  },
  {
   "cell_type": "code",
   "execution_count": 72,
   "id": "79386464",
   "metadata": {},
   "outputs": [
    {
     "data": {
      "text/plain": [
       "'For only 49.00 dollars!'"
      ]
     },
     "execution_count": 72,
     "metadata": {},
     "output_type": "execute_result"
    }
   ],
   "source": [
    "t = \"For only {price:.2f} dollars!\"\n",
    "t.format(price = 49) # Formats specified values in a string"
   ]
  },
  {
   "cell_type": "code",
   "execution_count": 73,
   "id": "9a33e579",
   "metadata": {},
   "outputs": [
    {
     "data": {
      "text/plain": [
       "7"
      ]
     },
     "execution_count": 73,
     "metadata": {},
     "output_type": "execute_result"
    }
   ],
   "source": [
    "txt.index('a') # Searches the string for a specified value and returns the position of where it was found"
   ]
  },
  {
   "cell_type": "code",
   "execution_count": 78,
   "id": "5f00122c",
   "metadata": {},
   "outputs": [
    {
     "data": {
      "text/plain": [
       "True"
      ]
     },
     "execution_count": 78,
     "metadata": {},
     "output_type": "execute_result"
    }
   ],
   "source": [
    "t = 'company12'\n",
    "t.isalnum() # Returns True if all characters in the string are alphanumeric"
   ]
  },
  {
   "cell_type": "code",
   "execution_count": 80,
   "id": "e993afff",
   "metadata": {},
   "outputs": [
    {
     "data": {
      "text/plain": [
       "True"
      ]
     },
     "execution_count": 80,
     "metadata": {},
     "output_type": "execute_result"
    }
   ],
   "source": [
    "xt = 'companyX'\n",
    "xt.isalpha() # Returns True if all characters in the string are in the alphabet"
   ]
  },
  {
   "cell_type": "code",
   "execution_count": 81,
   "id": "bdc3c985",
   "metadata": {},
   "outputs": [
    {
     "data": {
      "text/plain": [
       "True"
      ]
     },
     "execution_count": 81,
     "metadata": {},
     "output_type": "execute_result"
    }
   ],
   "source": [
    "t.isascii() # Returns True if all characters in the string are ascii characters"
   ]
  },
  {
   "cell_type": "code",
   "execution_count": 83,
   "id": "db64a760",
   "metadata": {},
   "outputs": [
    {
     "data": {
      "text/plain": [
       "True"
      ]
     },
     "execution_count": 83,
     "metadata": {},
     "output_type": "execute_result"
    }
   ],
   "source": [
    "x = '123'\n",
    "x.isdecimal()# Returns True if all characters in the string are decimals"
   ]
  },
  {
   "cell_type": "code",
   "execution_count": 84,
   "id": "7b1b7f79",
   "metadata": {},
   "outputs": [
    {
     "data": {
      "text/plain": [
       "True"
      ]
     },
     "execution_count": 84,
     "metadata": {},
     "output_type": "execute_result"
    }
   ],
   "source": [
    "x.isdigit() # Returns True if all characters in the string are digits"
   ]
  },
  {
   "cell_type": "code",
   "execution_count": 85,
   "id": "7ffb6eb7",
   "metadata": {},
   "outputs": [
    {
     "data": {
      "text/plain": [
       "True"
      ]
     },
     "execution_count": 85,
     "metadata": {},
     "output_type": "execute_result"
    }
   ],
   "source": [
    "tx = 'Demo'\n",
    "tx.isidentifier() # Returns True if the string is an identifier"
   ]
  },
  {
   "cell_type": "code",
   "execution_count": 86,
   "id": "abb06df8",
   "metadata": {},
   "outputs": [
    {
     "data": {
      "text/plain": [
       "True"
      ]
     },
     "execution_count": 86,
     "metadata": {},
     "output_type": "execute_result"
    }
   ],
   "source": [
    "t = 'ab cd'\n",
    "t.islower() # Returns True if all characters in the string are lower case"
   ]
  },
  {
   "cell_type": "code",
   "execution_count": 88,
   "id": "a2d8d858",
   "metadata": {},
   "outputs": [
    {
     "data": {
      "text/plain": [
       "True"
      ]
     },
     "execution_count": 88,
     "metadata": {},
     "output_type": "execute_result"
    }
   ],
   "source": [
    "tx = '2345'\n",
    "tx.isnumeric() # Returns True if all characters in the string are numeric"
   ]
  },
  {
   "cell_type": "code",
   "execution_count": 89,
   "id": "8adf7bd2",
   "metadata": {},
   "outputs": [
    {
     "data": {
      "text/plain": [
       "True"
      ]
     },
     "execution_count": 89,
     "metadata": {},
     "output_type": "execute_result"
    }
   ],
   "source": [
    "txt.isprintable() # Returns True if all characters in the string are printable"
   ]
  },
  {
   "cell_type": "code",
   "execution_count": 91,
   "id": "0dde1cbd",
   "metadata": {},
   "outputs": [
    {
     "data": {
      "text/plain": [
       "True"
      ]
     },
     "execution_count": 91,
     "metadata": {},
     "output_type": "execute_result"
    }
   ],
   "source": [
    "txt = '   '\n",
    "txt.isspace() # Returns True if all characters in the string are whitespaces"
   ]
  },
  {
   "cell_type": "code",
   "execution_count": 102,
   "id": "e7f96b8d",
   "metadata": {},
   "outputs": [
    {
     "data": {
      "text/plain": [
       "True"
      ]
     },
     "execution_count": 102,
     "metadata": {},
     "output_type": "execute_result"
    }
   ],
   "source": [
    "txt = ' Hello, And Welcome To My World. '\n",
    "txt.istitle() # Returns True if the string follows the rules of a title"
   ]
  },
  {
   "cell_type": "code",
   "execution_count": 103,
   "id": "3a7bd1f8",
   "metadata": {},
   "outputs": [
    {
     "data": {
      "text/plain": [
       "True"
      ]
     },
     "execution_count": 103,
     "metadata": {},
     "output_type": "execute_result"
    }
   ],
   "source": [
    "t = 'AB CD'\n",
    "t.isupper() # Returns True if all characters in the string are upper case"
   ]
  },
  {
   "cell_type": "code",
   "execution_count": 104,
   "id": "bd687599",
   "metadata": {},
   "outputs": [
    {
     "data": {
      "text/plain": [
       "'Aa Ba  a Ca D'"
      ]
     },
     "execution_count": 104,
     "metadata": {},
     "output_type": "execute_result"
    }
   ],
   "source": [
    "\"a \".join(t) # Converts the elements of an iterable into a string"
   ]
  },
  {
   "cell_type": "code",
   "execution_count": 105,
   "id": "99ecadbd",
   "metadata": {},
   "outputs": [
    {
     "name": "stdout",
     "output_type": "stream",
     "text": [
      "banana               : my favorite fruit.\n"
     ]
    }
   ],
   "source": [
    "x = \"banana\"\n",
    "print(x.ljust(20), \": my favorite fruit.\") # Returns a left justified version of the string"
   ]
  },
  {
   "cell_type": "code",
   "execution_count": 106,
   "id": "91f077a7",
   "metadata": {},
   "outputs": [
    {
     "data": {
      "text/plain": [
       "' hello, and welcome to my world. '"
      ]
     },
     "execution_count": 106,
     "metadata": {},
     "output_type": "execute_result"
    }
   ],
   "source": [
    "txt.lower() # Converts a string into lower case"
   ]
  },
  {
   "cell_type": "code",
   "execution_count": 107,
   "id": "e883c150",
   "metadata": {},
   "outputs": [
    {
     "data": {
      "text/plain": [
       "'Hello, And Welcome To My World. '"
      ]
     },
     "execution_count": 107,
     "metadata": {},
     "output_type": "execute_result"
    }
   ],
   "source": [
    "txt.lstrip() # Returns a left trim version of the string"
   ]
  },
  {
   "cell_type": "code",
   "execution_count": 109,
   "id": "421516f8",
   "metadata": {},
   "outputs": [
    {
     "name": "stdout",
     "output_type": "stream",
     "text": [
      "Hello Pam!\n"
     ]
    }
   ],
   "source": [
    "mytable = \"Hello Sam!\"\n",
    "print(mytable.translate(str.maketrans(\"S\", \"P\"))) # Returns a translation table to be used in translations"
   ]
  },
  {
   "cell_type": "code",
   "execution_count": 111,
   "id": "87e4d63f",
   "metadata": {},
   "outputs": [
    {
     "data": {
      "text/plain": [
       "(' Hello, ', 'And', ' Welcome To My World. ')"
      ]
     },
     "execution_count": 111,
     "metadata": {},
     "output_type": "execute_result"
    }
   ],
   "source": [
    "txt.partition(\"And\") # Returns a tuple where the string is parted into three parts"
   ]
  },
  {
   "cell_type": "code",
   "execution_count": 112,
   "id": "6f8f2ef7",
   "metadata": {},
   "outputs": [
    {
     "data": {
      "text/plain": [
       "' Hello, and Welcome To My World. '"
      ]
     },
     "execution_count": 112,
     "metadata": {},
     "output_type": "execute_result"
    }
   ],
   "source": [
    "txt.replace('And', 'and') # Returns a string where a specified value is replaced with a specified value"
   ]
  },
  {
   "cell_type": "code",
   "execution_count": 113,
   "id": "afbadf96",
   "metadata": {},
   "outputs": [
    {
     "data": {
      "text/plain": [
       "8"
      ]
     },
     "execution_count": 113,
     "metadata": {},
     "output_type": "execute_result"
    }
   ],
   "source": [
    "txt.rfind(\"And\") # Searches the string for a specified value and returns the last position of where it was found"
   ]
  },
  {
   "cell_type": "code",
   "execution_count": 115,
   "id": "b441a54e",
   "metadata": {},
   "outputs": [
    {
     "data": {
      "text/plain": [
       "8"
      ]
     },
     "execution_count": 115,
     "metadata": {},
     "output_type": "execute_result"
    }
   ],
   "source": [
    "txt.rindex(\"And\") # Searches the string for a specified value and returns the last position of where it was found"
   ]
  },
  {
   "cell_type": "code",
   "execution_count": 119,
   "id": "567be338",
   "metadata": {},
   "outputs": [
    {
     "name": "stdout",
     "output_type": "stream",
     "text": [
      "    banana\n"
     ]
    }
   ],
   "source": [
    "t = \"banana\"\n",
    "print(t.rjust(10)) # Returns a right justified version of the string"
   ]
  },
  {
   "cell_type": "code",
   "execution_count": 120,
   "id": "5b2eacd9",
   "metadata": {},
   "outputs": [
    {
     "data": {
      "text/plain": [
       "(' Hello, And ', 'Welcome', ' To My World. ')"
      ]
     },
     "execution_count": 120,
     "metadata": {},
     "output_type": "execute_result"
    }
   ],
   "source": [
    "txt.rpartition('Welcome') # Returns a tuple where the string is parted into three parts"
   ]
  },
  {
   "cell_type": "code",
   "execution_count": 121,
   "id": "899e6547",
   "metadata": {},
   "outputs": [
    {
     "data": {
      "text/plain": [
       "['Hello,', 'And', 'Welcome', 'To', 'My', 'World.']"
      ]
     },
     "execution_count": 121,
     "metadata": {},
     "output_type": "execute_result"
    }
   ],
   "source": [
    "txt.rsplit() # Splits the string at the specified separator, and returns a list"
   ]
  },
  {
   "cell_type": "code",
   "execution_count": 122,
   "id": "0711555e",
   "metadata": {},
   "outputs": [
    {
     "data": {
      "text/plain": [
       "' Hello, And Welcome To My World.'"
      ]
     },
     "execution_count": 122,
     "metadata": {},
     "output_type": "execute_result"
    }
   ],
   "source": [
    "txt.rstrip() # Returns a right trim version of the string"
   ]
  },
  {
   "cell_type": "code",
   "execution_count": 123,
   "id": "cc166edd",
   "metadata": {},
   "outputs": [
    {
     "data": {
      "text/plain": [
       "['Hello,', 'And', 'Welcome', 'To', 'My', 'World.']"
      ]
     },
     "execution_count": 123,
     "metadata": {},
     "output_type": "execute_result"
    }
   ],
   "source": [
    "txt.split() # Splits the string at the specified separator, and returns a list"
   ]
  },
  {
   "cell_type": "code",
   "execution_count": 124,
   "id": "6d620d30",
   "metadata": {},
   "outputs": [
    {
     "data": {
      "text/plain": [
       "[' Hello, And Welcome To My World. ']"
      ]
     },
     "execution_count": 124,
     "metadata": {},
     "output_type": "execute_result"
    }
   ],
   "source": [
    "txt.splitlines() # Splits the string at line breaks and returns a list"
   ]
  },
  {
   "cell_type": "code",
   "execution_count": 127,
   "id": "e966ce7c",
   "metadata": {},
   "outputs": [
    {
     "data": {
      "text/plain": [
       "True"
      ]
     },
     "execution_count": 127,
     "metadata": {},
     "output_type": "execute_result"
    }
   ],
   "source": [
    "txt.startswith(' Hello') # Returns true if the string starts with the specified value"
   ]
  },
  {
   "cell_type": "code",
   "execution_count": 128,
   "id": "5dcfef6c",
   "metadata": {},
   "outputs": [
    {
     "data": {
      "text/plain": [
       "'Hello, And Welcome To My World.'"
      ]
     },
     "execution_count": 128,
     "metadata": {},
     "output_type": "execute_result"
    }
   ],
   "source": [
    "txt.strip() # Returns a trimmed version of the string"
   ]
  },
  {
   "cell_type": "code",
   "execution_count": 129,
   "id": "5c2f57c5",
   "metadata": {},
   "outputs": [
    {
     "data": {
      "text/plain": [
       "' hELLO, aND wELCOME tO mY wORLD. '"
      ]
     },
     "execution_count": 129,
     "metadata": {},
     "output_type": "execute_result"
    }
   ],
   "source": [
    "txt.swapcase() # Swaps cases, lower case becomes upper case and vice versa"
   ]
  },
  {
   "cell_type": "code",
   "execution_count": 130,
   "id": "c877b495",
   "metadata": {},
   "outputs": [
    {
     "data": {
      "text/plain": [
       "' Hello, And Welcome To My World. '"
      ]
     },
     "execution_count": 130,
     "metadata": {},
     "output_type": "execute_result"
    }
   ],
   "source": [
    "txt.title() # Converts the first character of each word to upper case"
   ]
  },
  {
   "cell_type": "code",
   "execution_count": 133,
   "id": "3c1c731b",
   "metadata": {},
   "outputs": [
    {
     "name": "stdout",
     "output_type": "stream",
     "text": [
      "Hello Pam!\n"
     ]
    }
   ],
   "source": [
    "mydict = {83:  80} # #use a dictionary with ascii codes to replace 83 (S) with 80 (P):\n",
    "txt = \"Hello Sam!\"\n",
    "print(txt.translate(mydict)) # Returns a translated string"
   ]
  },
  {
   "cell_type": "code",
   "execution_count": 134,
   "id": "446f8212",
   "metadata": {},
   "outputs": [
    {
     "data": {
      "text/plain": [
       "'HELLO SAM!'"
      ]
     },
     "execution_count": 134,
     "metadata": {},
     "output_type": "execute_result"
    }
   ],
   "source": [
    "txt.upper() # Converts a string into upper case"
   ]
  },
  {
   "cell_type": "code",
   "execution_count": 137,
   "id": "6cd27cc3",
   "metadata": {},
   "outputs": [
    {
     "data": {
      "text/plain": [
       "'0000000050'"
      ]
     },
     "execution_count": 137,
     "metadata": {},
     "output_type": "execute_result"
    }
   ],
   "source": [
    "txt = '50'\n",
    "txt.zfill(10) # Fills the string with a specified number of 0 values at the beginning"
   ]
  },
  {
   "cell_type": "code",
   "execution_count": null,
   "id": "49305911",
   "metadata": {},
   "outputs": [],
   "source": []
  }
 ],
 "metadata": {
  "kernelspec": {
   "display_name": "Python 3",
   "language": "python",
   "name": "python3"
  },
  "language_info": {
   "codemirror_mode": {
    "name": "ipython",
    "version": 3
   },
   "file_extension": ".py",
   "mimetype": "text/x-python",
   "name": "python",
   "nbconvert_exporter": "python",
   "pygments_lexer": "ipython3",
   "version": "3.8.8"
  }
 },
 "nbformat": 4,
 "nbformat_minor": 5
}
