{
 "cells": [
  {
   "cell_type": "markdown",
   "metadata": {},
   "source": [
    "### Class\n",
    "- Class is an template/blueprint for real world entity\n",
    "- example phon \n",
    "    1. properties :- color, cost, battery life\n",
    "    2. behavior :- make call, watch video, play games\n",
    "- User Defined data type which have attributes and methods\n",
    "\n",
    "### Objects\n",
    "- objects are specific instances of class\n",
    "- example phone is a class and types(apple, moto, samsung etc.) are instances, all these instances together make object of class.\n",
    "\n",
    "### Modeling a problem in OOPs\n",
    "- Noun --> Class --> Phon\n",
    "- Adjection --> Class Attributes --> p_color, p_ram etc.\n",
    "- Verb --> Class Methods --> Phon_price\n",
    "\n",
    "### Class Attributes:\n",
    "- An attributes that belongs to the class rather than a perticular object\n",
    "- Always public, Can be accessed using \".\" operator. ex: Phone.p_color"
   ]
  },
  {
   "cell_type": "code",
   "execution_count": 8,
   "metadata": {},
   "outputs": [
    {
     "name": "stdout",
     "output_type": "stream",
     "text": [
      "class attribute:  abc\n",
      "after changing class attribute:  xyz\n"
     ]
    }
   ],
   "source": [
    "class Emp:\n",
    "    company = \"abc\" # class attribute\n",
    "name = Emp()\n",
    "print(\"class attribute: \",name.company)\n",
    "\n",
    "name.company = \"xyz\" # changing class attribute\n",
    "print(\"after changing class attribute: \",name.company)"
   ]
  },
  {
   "cell_type": "markdown",
   "metadata": {},
   "source": [
    "### Instance Attributes:\n",
    "- An attributes that belongs to the object(Instance).\n",
    "- Instance attributes take preferance over class attribute during assingment and retrival"
   ]
  },
  {
   "cell_type": "code",
   "execution_count": 10,
   "metadata": {},
   "outputs": [
    {
     "name": "stdout",
     "output_type": "stream",
     "text": [
      "class attribute:  abc\n",
      "Instance attribute:  50L\n"
     ]
    }
   ],
   "source": [
    "class Emp:\n",
    "    company = \"abc\" # class attribute\n",
    "name = Emp()\n",
    "print(\"class attribute: \",name.company)\n",
    "\n",
    "name.income = \"50L\" # Instance attribute\n",
    "print(\"Instance attribute: \",name.income)"
   ]
  },
  {
   "cell_type": "markdown",
   "metadata": {},
   "source": [
    "### Self Parameter:\n",
    "- self refers to the instance of the class.\n",
    "- It is automatically passes with a fuction call from an objet\n",
    "- For invoke inbuild parameter with object, we use \"self\"\n",
    "- The Self Parameter does not call it to be Self, You can use any other name instead of it. ex: someone "
   ]
  },
  {
   "cell_type": "code",
   "execution_count": 11,
   "metadata": {},
   "outputs": [
    {
     "name": "stdout",
     "output_type": "stream",
     "text": [
      "Hello my name is John and I work in ABC.\n"
     ]
    }
   ],
   "source": [
    "class GFG:\n",
    "    def __init__(self, name, company):\n",
    "        self.name = name\n",
    "        self.company = company\n",
    "\n",
    "    def show(self):\n",
    "        print(\"Hello my name is \" + self.name+\" and I\" + \" work in \"+self.company+\".\")\n",
    "\n",
    "\n",
    "obj = GFG(\"John\", \"ABC\")\n",
    "obj.show()\n"
   ]
  },
  {
   "cell_type": "code",
   "execution_count": 13,
   "metadata": {},
   "outputs": [
    {
     "name": "stdout",
     "output_type": "stream",
     "text": [
      "Hello my name is John and I work in ABC.\n"
     ]
    }
   ],
   "source": [
    "class GFG:\n",
    "    def __init__(someone, name, company):\n",
    "        someone.name = name\n",
    "        someone.company = company\n",
    "\n",
    "    def show(someone):\n",
    "        print(\"Hello my name is \" + someone.name+\" and I\" + \" work in \"+someone.company+\".\")\n",
    "\n",
    "obj = GFG(\"John\", \"ABC\")\n",
    "obj.show()"
   ]
  },
  {
   "cell_type": "markdown",
   "metadata": {},
   "source": [
    "### __init__() method:\n",
    "- The __init__ method is similar to constructors in C++ and Java. \n",
    "- Constructors are used to initializing the object’s state.\n",
    "- The task of constructors is to initialize(assign values) to the data members of the class when an object of the class is created.\n",
    "- Constructor also contains a collection of statements(i.e. instructions) that are executed at the time of Object creation. \n",
    "- It runs as soon as an object of a class is instantiated. \n",
    "- The method is useful to do any initialization you want to do with your object.\n",
    "- Syntax: def __init__(self):\n",
    "            # body of the constructor\n",
    "\n",
    "### __str__() method:\n",
    "- The __str__ method is used to define how a class object should be represented as a string. \n",
    "- It is often used to give an object a human-readable textual representation, which is helpful for logging, debugging, or showing users object information. \n",
    "- When a class object is used to create a string using the built-in functions print() and str(), the __str__() function is automatically used. \n",
    "\n",
    "### Types of constructors : \n",
    "##### default constructor: \n",
    "- The default constructor is a simple constructor which doesn’t accept any arguments. \n",
    "- Its definition has only one argument which is a reference to the instance being constructed.\n",
    "\n",
    "##### parameterized constructor: \n",
    "- constructor with parameters is known as parameterized constructor. \n",
    "- The parameterized constructor takes its first argument as a reference to the instance being constructed known as self.\n",
    "- The rest of the arguments are provided by the programmer.\n",
    "\n",
    "### Advantages of using constructors in Python:\n",
    "##### Initialization of objects: \n",
    "- Constructors are used to initialize the objects of a class. \n",
    "- They allow you to set default values for attributes or properties.\n",
    "- Also allow you to initialize the object with custom data.\n",
    "\n",
    "##### Easy to implement: \n",
    "- Constructors are easy to implement in Python, and can be defined using the __init__() method.\n",
    "\n",
    "###### Better readability: \n",
    "- Constructors improve the readability of the code by making it clear what values are being initialized and how they are being initialized.\n",
    "\n",
    "##### Encapsulation: \n",
    "- Constructors can be used to enforce encapsulation, by ensuring that the object’s attributes are initialized correctly and in a controlled manner.\n",
    "\n",
    "### Disadvantages of using constructors in Python:\n",
    "##### Overloading not supported: \n",
    "- Unlike other object-oriented languages, Python does not support method overloading. This means that you cannot have multiple constructors with different parameters in a single class.\n",
    "\n",
    "##### Limited functionality: \n",
    "- Constructors in Python are limited in their functionality compared to constructors in other programming languages. \n",
    "- For example, Python does not have constructors with access modifiers like public, private or protected.\n",
    "\n",
    "##### Constructors may be unnecessary: \n",
    "- In some cases, constructors may not be necessary, as the default values of attributes may be sufficient. \n",
    "- In these cases, using a constructor may add unnecessary complexity to the code."
   ]
  },
  {
   "cell_type": "code",
   "execution_count": 14,
   "metadata": {},
   "outputs": [
    {
     "name": "stdout",
     "output_type": "stream",
     "text": [
      "Hello, my name is Vishal\n"
     ]
    }
   ],
   "source": [
    "# Sample class with init method\n",
    "class Person:\n",
    " \n",
    "    # init method or constructor\n",
    "    def __init__(self, name):\n",
    "        self.name = name\n",
    " \n",
    "    # Sample Method\n",
    "    def say_hi(self):\n",
    "        print('Hello, my name is', self.name)\n",
    " \n",
    " \n",
    "p = Person('Vishal')\n",
    "p.say_hi()"
   ]
  },
  {
   "cell_type": "code",
   "execution_count": 15,
   "metadata": {},
   "outputs": [
    {
     "name": "stdout",
     "output_type": "stream",
     "text": [
      "My name is Vishal and I work in ABC.\n"
     ]
    }
   ],
   "source": [
    "class Person:\n",
    "    def __init__(self, name, company):\n",
    "        self.name = name\n",
    "        self.company = company\n",
    " \n",
    "    def __str__(self):\n",
    "        return f\"My name is {self.name} and I work in {self.company}.\"\n",
    " \n",
    " \n",
    "my_obj = Person(\"Vishal\", \"ABC\")\n",
    "print(my_obj)"
   ]
  },
  {
   "cell_type": "code",
   "execution_count": 17,
   "metadata": {},
   "outputs": [
    {
     "name": "stdout",
     "output_type": "stream",
     "text": [
      "Vishal\n"
     ]
    }
   ],
   "source": [
    "# Example of default constructor : \n",
    "class Person:\n",
    "    def __init__(self, name):\n",
    "        self.name = name\n",
    " \n",
    "    # a method for printing data members\n",
    "    def print_name(self):\n",
    "        print(self.name)\n",
    " \n",
    " \n",
    "# creating object of the class\n",
    "my_obj = Person(\"Vishal\")\n",
    " \n",
    "# calling the instance method using the object obj\n",
    "my_obj.print_name()"
   ]
  },
  {
   "cell_type": "code",
   "execution_count": 18,
   "metadata": {},
   "outputs": [
    {
     "name": "stdout",
     "output_type": "stream",
     "text": [
      "First number = 1000\n",
      "Second number = 2000\n",
      "Addition of two numbers = 3000\n",
      "First number = 10\n",
      "Second number = 20\n",
      "Addition of two numbers = 30\n"
     ]
    }
   ],
   "source": [
    "# Example of the parameterized constructor : \n",
    "class Addition:\n",
    "    first = 0\n",
    "    second = 0\n",
    "    answer = 0\n",
    " \n",
    "    # parameterized constructor\n",
    "    def __init__(self, f, s):\n",
    "        self.first = f\n",
    "        self.second = s\n",
    " \n",
    "    def display(self):\n",
    "        print(\"First number = \" + str(self.first))\n",
    "        print(\"Second number = \" + str(self.second))\n",
    "        print(\"Addition of two numbers = \" + str(self.answer))\n",
    " \n",
    "    def calculate(self):\n",
    "        self.answer = self.first + self.second\n",
    " \n",
    " \n",
    "# creating object of the class\n",
    "# this will invoke parameterized constructor\n",
    "obj1 = Addition(1000, 2000)\n",
    " \n",
    "# creating second object of same class\n",
    "obj2 = Addition(10, 20)\n",
    " \n",
    "# perform Addition on obj1\n",
    "obj1.calculate()\n",
    " \n",
    "# perform Addition on obj2\n",
    "obj2.calculate()\n",
    " \n",
    "# display result of obj1\n",
    "obj1.display()\n",
    " \n",
    "# display result of obj2\n",
    "obj2.display()"
   ]
  },
  {
   "cell_type": "markdown",
   "metadata": {},
   "source": [
    "### Destructors:\n",
    "- Destructors are called when an object gets destroyed.\n",
    "- The __del__() method is a known as a destructor method in Python. \n",
    "- It is called when all references to the object have been deleted i.e when an object is garbage collected. \n",
    "- Syntax: def __del__(self):\n",
    "              # body of destructor\n",
    "- A reference to objects is also deleted when the object goes out of reference or when the program ends. \n",
    "- The destructor was called after the program ended or when all the references to object are deleted "
   ]
  },
  {
   "cell_type": "code",
   "execution_count": 23,
   "metadata": {},
   "outputs": [
    {
     "name": "stdout",
     "output_type": "stream",
     "text": [
      "Calling Create_obj() function...\n",
      "Making Object...\n",
      "Employee created\n",
      "function end...\n",
      "Program End...\n",
      "Destructor called\n"
     ]
    }
   ],
   "source": [
    "# Python program to illustrate destructor\n",
    "class Employee:\n",
    "  \n",
    "    # Initializing\n",
    "    def __init__(self):\n",
    "        print('Employee created')\n",
    "  \n",
    "    # Calling destructor\n",
    "    def __del__(self):\n",
    "        print(\"Destructor called\")\n",
    "\n",
    "def Create_obj():\n",
    "    print('Making Object...')\n",
    "    obj = Employee()\n",
    "    print('function end...')\n",
    "    return obj\n",
    "  \n",
    "print('Calling Create_obj() function...')\n",
    "obj = Create_obj()\n",
    "print('Program End...')\n",
    "# The destructor was called after the program ended \n",
    "del obj"
   ]
  },
  {
   "cell_type": "markdown",
   "metadata": {},
   "source": [
    "### Advantages of using destructors in Python:\n",
    "##### Automatic cleanup: \n",
    "- Destructors provide automatic cleanup of resources used by an object when it is no longer needed. \n",
    "- This can be especially useful in cases where resources are limited, or where failure to clean up can lead to memory leaks or other issues.\n",
    "##### Consistent behavior: \n",
    "- Destructors ensure that an object is properly cleaned up, regardless of how it is used or when it is destroyed. \n",
    "- This helps to ensure consistent behavior and can help to prevent bugs and other issues.\n",
    "##### Easy to use: \n",
    "- Destructors are easy to implement in Python, and can be defined using the __del__() method.\n",
    "##### Supports object-oriented programming: \n",
    "- Destructors are an important feature of object-oriented programming, and can be used to enforce encapsulation and other principles of object-oriented design.\n",
    "##### Helps with debugging: \n",
    "- Destructors can be useful for debugging, as they can be used to trace the lifecycle of an object and determine when it is being destroyed."
   ]
  },
  {
   "cell_type": "markdown",
   "metadata": {},
   "source": [
    "### Inheritance:\n",
    "- Inheritance is a mechanism that allows you to create a hierarchy of classes that share a set of properties and methods by deriving a class from another class. \n",
    "- Inheritance is the capability of one class to derive or inherit the properties from another class. \n",
    "- Syntax: Class BaseClass:\n",
    "            {Body}\n",
    "          Class DerivedClass(BaseClass):\n",
    "            {Body}\n",
    "\n",
    "##### Benefits of inheritance are:\n",
    "- Inheritance allows you to inherit the properties of a class, i.e., base class to another, i.e., derived class. \n",
    "- The benefits of Inheritance in Python are as follows:\n",
    "- It represents real-world relationships well.\n",
    "- It provides the reusability of a code. We don’t have to write the same code again and again. \n",
    "- Also, it allows us to add more features to a class without modifying it.\n",
    "- It is transitive in nature, which means that if class B inherits from another class A, then all the subclasses of B would automatically inherit from class A.\n",
    "- Inheritance offers a simple, understandable model structure. \n",
    "- Less development and maintenance expenses result from an inheritance. \n",
    "\n",
    "### super():\n",
    "- The super function is a built-in function that returns the objects that represent the parent class. It allows to access the parent class’s methods and attributes in the child class.\n",
    "\n",
    "### Adding Properties:\n",
    "- One of the features that inheritance provides is inheriting the properties of the parent class as well as adding new properties of our own to the child class.\n",
    "\n",
    "### Private members of the parent class: \n",
    "- We don’t always want the instance variables of the parent class to be inherited by the child class i.e. we can make some of the instance variables of the parent class private, which won’t be available to the child class. "
   ]
  },
  {
   "cell_type": "code",
   "execution_count": 24,
   "metadata": {},
   "outputs": [
    {
     "name": "stdout",
     "output_type": "stream",
     "text": [
      "Vishal False\n",
      "Vishal True\n"
     ]
    }
   ],
   "source": [
    "# A Python program to demonstrate inheritance\n",
    "\n",
    "class Person(object):\n",
    " \n",
    "    # Constructor\n",
    "    def __init__(self, name):\n",
    "        self.name = name\n",
    " \n",
    "    # To get name\n",
    "    def getName(self):\n",
    "        return self.name\n",
    " \n",
    "    # To check if this person is an employee\n",
    "    def isEmployee(self):\n",
    "        return False\n",
    " \n",
    " \n",
    "# Inherited or Subclass (Note Person in bracket)\n",
    "class Employee(Person):\n",
    " \n",
    "    # Here we return true\n",
    "    def isEmployee(self):\n",
    "        return True\n",
    " \n",
    " \n",
    "# Driver code\n",
    "emp = Person(\"Vishal\")  # An Object of Person\n",
    "print(emp.getName(), emp.isEmployee())\n",
    " \n",
    "emp = Employee(\"Vishal\")  # An Object of Employee\n",
    "print(emp.getName(), emp.isEmployee())"
   ]
  },
  {
   "cell_type": "code",
   "execution_count": 25,
   "metadata": {},
   "outputs": [
    {
     "name": "stdout",
     "output_type": "stream",
     "text": [
      "Rahul 23\n",
      "Mayank 23\n"
     ]
    }
   ],
   "source": [
    "# Example: super() function with simple Python inheritance\n",
    "# parent class\n",
    "class Person():\n",
    "    def __init__(self, name, age):\n",
    "        self.name = name\n",
    "        self.age = age\n",
    " \n",
    "    def display(self):\n",
    "        print(self.name, self.age)\n",
    "\n",
    "# child class\n",
    "class Student(Person):\n",
    "    def __init__(self, name, age):\n",
    "        self.sName = name\n",
    "        self.sAge = age\n",
    "        # inheriting the properties of parent class\n",
    "        super().__init__(\"Rahul\", age)\n",
    " \n",
    "    def displayInfo(self):\n",
    "        print(self.sName, self.sAge)\n",
    "\n",
    "obj = Student(\"Mayank\", 23)\n",
    "obj.display()\n",
    "obj.displayInfo()\n"
   ]
  },
  {
   "cell_type": "code",
   "execution_count": 28,
   "metadata": {},
   "outputs": [
    {
     "name": "stdout",
     "output_type": "stream",
     "text": [
      "Rahul 23\n",
      "Mayank 23 16-03-2000\n"
     ]
    }
   ],
   "source": [
    "# Example of Adding Properties\n",
    "# parent class\n",
    "class Person():\n",
    "    def __init__(self, name, age):\n",
    "        self.name = name\n",
    "        self.age = age\n",
    " \n",
    "    def display(self):\n",
    "        print(self.name, self.age)\n",
    "\n",
    "# child class\n",
    "class Student(Person):\n",
    "    def __init__(self, name, age, dob):\n",
    "        self.sName = name\n",
    "        self.sAge = age\n",
    "        self.dob = dob\n",
    "        # inheriting the properties of parent class\n",
    "        super().__init__(\"Rahul\", age)\n",
    " \n",
    "    def displayInfo(self):\n",
    "        print(self.sName, self.sAge, self.dob)\n",
    "\n",
    "obj = Student(\"Mayank\", 23, \"16-03-2000\")\n",
    "obj.display()\n",
    "obj.displayInfo()"
   ]
  },
  {
   "cell_type": "code",
   "execution_count": 32,
   "metadata": {},
   "outputs": [
    {
     "name": "stdout",
     "output_type": "stream",
     "text": [
      "21\n",
      "produces an error as d is private instance variable\n"
     ]
    },
    {
     "ename": "AttributeError",
     "evalue": "'D' object has no attribute '__d'",
     "output_type": "error",
     "traceback": [
      "\u001b[1;31m---------------------------------------------------------------------------\u001b[0m",
      "\u001b[1;31mAttributeError\u001b[0m                            Traceback (most recent call last)",
      "\u001b[1;32m<ipython-input-32-37d68fc6b8bf>\u001b[0m in \u001b[0;36m<module>\u001b[1;34m\u001b[0m\n\u001b[0;32m     18\u001b[0m \u001b[0mprint\u001b[0m\u001b[1;33m(\u001b[0m\u001b[0mobject1\u001b[0m\u001b[1;33m.\u001b[0m\u001b[0mc\u001b[0m\u001b[1;33m)\u001b[0m\u001b[1;33m\u001b[0m\u001b[1;33m\u001b[0m\u001b[0m\n\u001b[0;32m     19\u001b[0m \u001b[0mprint\u001b[0m\u001b[1;33m(\u001b[0m\u001b[1;34m\"produces an error as d is private instance variable\"\u001b[0m\u001b[1;33m)\u001b[0m\u001b[1;33m\u001b[0m\u001b[1;33m\u001b[0m\u001b[0m\n\u001b[1;32m---> 20\u001b[1;33m \u001b[0mprint\u001b[0m\u001b[1;33m(\u001b[0m\u001b[0mobject1\u001b[0m\u001b[1;33m.\u001b[0m\u001b[0m__d\u001b[0m\u001b[1;33m)\u001b[0m\u001b[1;33m\u001b[0m\u001b[1;33m\u001b[0m\u001b[0m\n\u001b[0m",
      "\u001b[1;31mAttributeError\u001b[0m: 'D' object has no attribute '__d'"
     ]
    }
   ],
   "source": [
    "# Python program to demonstrate private members of the parent class\n",
    " \n",
    "class C(object):\n",
    "    def __init__(self):\n",
    "        self.c = 21\n",
    " \n",
    "        # d is private instance variable\n",
    "        self.__d = 42\n",
    " \n",
    " \n",
    "class D(C):\n",
    "    def __init__(self):\n",
    "        self.e = 84\n",
    "        C.__init__(self)\n",
    "\n",
    "object1 = D()\n",
    " \n",
    "print(object1.c)\n",
    "print(\"produces an error as d is private instance variable\")\n",
    "print(object1.__d)"
   ]
  },
  {
   "cell_type": "markdown",
   "metadata": {},
   "source": [
    "### Types of Inheritance in Python\n",
    "\n",
    "##### Single Inheritance: \n",
    "- Single inheritance enables a derived class to inherit properties from a single parent class, thus enabling code reusability and the addition of new features to existing code.\n",
    "- ex: A(base class) --> B(derived class)\n",
    "\n",
    "##### Multiple Inheritance: \n",
    "- When a class can be derived from more than one base class this type of inheritance is called multiple inheritances. \n",
    "- In multiple inheritances, all the features of the base classes are inherited into the derived class. \n",
    "- A(base class1), B(base class2) --> C(derived class)\n",
    "\n",
    "##### Multilevel Inheritance :\n",
    "- In multilevel inheritance, features of the base class and the derived class are further inherited into the new derived class. - This is similar to a relationship representing a child and a grandfather. \n",
    "- A(base class) --> B(intermediate class) --> C(derived class)\n",
    "\n",
    "##### Hierarchical Inheritance: \n",
    "- When more than one derived class are created from a single base this type of inheritance is called hierarchical inheritance. - - A(base class1) --> B(derived class2), C(derived class2)\n",
    "\n",
    "##### Hybrid Inheritance: \n",
    "- Inheritance consisting of multiple types of inheritance is called hybrid inheritance."
   ]
  },
  {
   "cell_type": "code",
   "execution_count": 33,
   "metadata": {},
   "outputs": [
    {
     "name": "stdout",
     "output_type": "stream",
     "text": [
      "This function is in parent class.\n",
      "This function is in child class.\n"
     ]
    }
   ],
   "source": [
    "# Python program to demonstrate single inheritance\n",
    " \n",
    "# Base class\n",
    "class Parent:\n",
    "    def func1(self):\n",
    "        print(\"This function is in parent class.\")\n",
    "\n",
    "# Derived class\n",
    " \n",
    "\n",
    "class Child(Parent):\n",
    "    def func2(self):\n",
    "        print(\"This function is in child class.\")\n",
    " \n",
    " \n",
    "# Driver's code\n",
    "object = Child()\n",
    "object.func1()\n",
    "object.func2()"
   ]
  },
  {
   "cell_type": "code",
   "execution_count": 34,
   "metadata": {},
   "outputs": [
    {
     "name": "stdout",
     "output_type": "stream",
     "text": [
      "Father : RAM\n",
      "Mother : SITA\n"
     ]
    }
   ],
   "source": [
    "# Python program to demonstrate multiple inheritance\n",
    " \n",
    "# Base class1\n",
    "class Mother:\n",
    "    mothername = \"\"\n",
    " \n",
    "    def mother(self):\n",
    "        print(self.mothername)\n",
    "\n",
    "# Base class2\n",
    "class Father:\n",
    "    fathername = \"\"\n",
    " \n",
    "    def father(self):\n",
    "        print(self.fathername)\n",
    "\n",
    "# Derived class\n",
    "class Son(Mother, Father):\n",
    "    def parents(self):\n",
    "        print(\"Father :\", self.fathername)\n",
    "        print(\"Mother :\", self.mothername)\n",
    " \n",
    " \n",
    "# Driver's code\n",
    "s1 = Son()\n",
    "s1.fathername = \"RAM\"\n",
    "s1.mothername = \"SITA\"\n",
    "s1.parents()"
   ]
  },
  {
   "cell_type": "code",
   "execution_count": 35,
   "metadata": {},
   "outputs": [
    {
     "name": "stdout",
     "output_type": "stream",
     "text": [
      "Lal mani\n",
      "Grandfather name : Lal mani\n",
      "Father name : Rampal\n",
      "Son name : Prince\n"
     ]
    }
   ],
   "source": [
    "# Python program to demonstrate multilevel inheritance\n",
    "\n",
    "# Base class\n",
    "class Grandfather:\n",
    "    def __init__(self, grandfathername):\n",
    "        self.grandfathername = grandfathername\n",
    "\n",
    "# Intermediate class\n",
    "class Father(Grandfather):\n",
    "    def __init__(self, fathername, grandfathername):\n",
    "        self.fathername = fathername\n",
    " \n",
    "        # invoking constructor of Grandfather class\n",
    "        Grandfather.__init__(self, grandfathername)\n",
    "\n",
    "# Derived class\n",
    "class Son(Father):\n",
    "    def __init__(self, sonname, fathername, grandfathername):\n",
    "        self.sonname = sonname\n",
    " \n",
    "        # invoking constructor of Father class\n",
    "        Father.__init__(self, fathername, grandfathername)\n",
    " \n",
    "    def print_name(self):\n",
    "        print('Grandfather name :', self.grandfathername)\n",
    "        print(\"Father name :\", self.fathername)\n",
    "        print(\"Son name :\", self.sonname)\n",
    "\n",
    "#  Driver code\n",
    "s1 = Son('Prince', 'Rampal', 'Lal mani')\n",
    "print(s1.grandfathername)\n",
    "s1.print_name()"
   ]
  },
  {
   "cell_type": "code",
   "execution_count": 36,
   "metadata": {},
   "outputs": [
    {
     "name": "stdout",
     "output_type": "stream",
     "text": [
      "This function is in parent class.\n",
      "This function is in child 1.\n",
      "This function is in parent class.\n",
      "This function is in child 2.\n"
     ]
    }
   ],
   "source": [
    "# Python program to demonstrate Hierarchical inheritance\n",
    "\n",
    "# Base class\n",
    "class Parent:\n",
    "    def func1(self):\n",
    "        print(\"This function is in parent class.\")\n",
    "\n",
    "# Derived class1\n",
    "class Child1(Parent):\n",
    "    def func2(self):\n",
    "        print(\"This function is in child 1.\")\n",
    "\n",
    "# Derivied class2\n",
    "class Child2(Parent):\n",
    "    def func3(self):\n",
    "        print(\"This function is in child 2.\")\n",
    " \n",
    " \n",
    "# Driver's code\n",
    "object1 = Child1()\n",
    "object2 = Child2()\n",
    "object1.func1()\n",
    "object1.func2()\n",
    "object2.func1()\n",
    "object2.func3()"
   ]
  },
  {
   "cell_type": "code",
   "execution_count": 37,
   "metadata": {},
   "outputs": [
    {
     "name": "stdout",
     "output_type": "stream",
     "text": [
      "This function is in school.\n",
      "This function is in student 1. \n"
     ]
    }
   ],
   "source": [
    "# Python program to demonstrate hybrid inheritance\n",
    " \n",
    "class School:\n",
    "    def func1(self):\n",
    "        print(\"This function is in school.\")\n",
    "\n",
    "class Student1(School):\n",
    "    def func2(self):\n",
    "        print(\"This function is in student 1. \")\n",
    "\n",
    "class Student2(School):\n",
    "    def func3(self):\n",
    "        print(\"This function is in student 2.\")\n",
    "        \n",
    "class Student3(Student1, School):\n",
    "    def func4(self):\n",
    "        print(\"This function is in student 3.\")\n",
    " \n",
    " \n",
    "# Driver's code\n",
    "object = Student3()\n",
    "object.func1()\n",
    "object.func2()"
   ]
  }
 ],
 "metadata": {
  "kernelspec": {
   "display_name": "Python 3",
   "language": "python",
   "name": "python3"
  },
  "language_info": {
   "codemirror_mode": {
    "name": "ipython",
    "version": 3
   },
   "file_extension": ".py",
   "mimetype": "text/x-python",
   "name": "python",
   "nbconvert_exporter": "python",
   "pygments_lexer": "ipython3",
   "version": "3.8.8"
  }
 },
 "nbformat": 4,
 "nbformat_minor": 4
}
