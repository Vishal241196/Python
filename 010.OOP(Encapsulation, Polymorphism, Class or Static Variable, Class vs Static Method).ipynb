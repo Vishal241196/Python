{
 "cells": [
  {
   "cell_type": "markdown",
   "id": "d253486a",
   "metadata": {},
   "source": [
    "### Encapsulation:\n",
    "- It describes the idea of wrapping data and the methods that work on data within one unit. \n",
    "- This puts restrictions on accessing variables and methods directly and can prevent the accidental modification of data. \n",
    "- To prevent accidental change, an object’s variable can only be changed by an object’s method. \n",
    "- Those types of variables are known as private variables.\n",
    "\n",
    "##### Protected members:\n",
    "- Protected members(in C++ and JAVA) are those members of the class that cannot be accessed outside the class but can be accessed from within the class and its subclasses. \n",
    "- To define a protected member prefixing the name of the member by a single underscore “_”.\n",
    "\n",
    "##### Private members:\n",
    "- Private members are similar to protected members, the difference is that the class members declared private should neither be accessed outside the class nor by any base class. \n",
    "- In Python, there is no existence of Private instance variables that cannot be accessed except inside a class.\n",
    "- To define a private member prefix the member name with double underscore “__”."
   ]
  },
  {
   "cell_type": "code",
   "execution_count": 1,
   "id": "42f7aa2f",
   "metadata": {},
   "outputs": [
    {
     "name": "stdout",
     "output_type": "stream",
     "text": [
      "Calling protected member of base class:  2\n",
      "Calling modified protected member outside class:  3\n",
      "Accessing protected member of obj1:  3\n",
      "Accessing protected member of obj2:  2\n"
     ]
    }
   ],
   "source": [
    "# Python program to demonstrate protected members Creating a base class\n",
    "class Base:\n",
    "    def __init__(self):\n",
    "  \n",
    "        # Protected member\n",
    "        self._a = 2\n",
    "\n",
    "# Creating a derived class\n",
    "class Derived(Base):\n",
    "    def __init__(self):\n",
    "  \n",
    "        # Calling constructor of\n",
    "        # Base class\n",
    "        Base.__init__(self)\n",
    "        print(\"Calling protected member of base class: \", \n",
    "              self._a)\n",
    "  \n",
    "        # Modify the protected variable:\n",
    "        self._a = 3\n",
    "        print(\"Calling modified protected member outside class: \",\n",
    "              self._a)\n",
    "  \n",
    "  \n",
    "obj1 = Derived()\n",
    "  \n",
    "obj2 = Base()\n",
    "  \n",
    "# Calling protected member\n",
    "# Can be accessed but should not be done due to convention\n",
    "print(\"Accessing protected member of obj1: \", obj1._a)\n",
    "  \n",
    "# Accessing the protected variable outside\n",
    "print(\"Accessing protected member of obj2: \", obj2._a)\n"
   ]
  },
  {
   "cell_type": "code",
   "execution_count": 8,
   "id": "3b7b957e",
   "metadata": {},
   "outputs": [
    {
     "name": "stdout",
     "output_type": "stream",
     "text": [
      "Base Class\n"
     ]
    }
   ],
   "source": [
    "# Python program to demonstrate private members\n",
    "  \n",
    "# Creating a Base class\n",
    "class Base:\n",
    "    def __init__(self):\n",
    "        self.a = \"Base Class\"\n",
    "        self.__c = \"Base Class\"\n",
    "\n",
    "# Creating a derived class\n",
    "class Derived(Base):\n",
    "    def __init__(self):  \n",
    "        # Calling constructor of\n",
    "        # Base class\n",
    "        Base.__init__(self)\n",
    "        print(\"Calling private member of base class: \")\n",
    "        print(self.__c)\n",
    "  \n",
    "  \n",
    "# Driver code\n",
    "obj1 = Base()\n",
    "print(obj1.a)\n",
    "  \n",
    "# Uncommenting print(obj1.c) will raise an AttributeError\n",
    "# Uncommenting obj2 = Derived() will also raise an AttributeError as private member of base class is called inside derived class."
   ]
  },
  {
   "cell_type": "markdown",
   "id": "208eee07",
   "metadata": {},
   "source": [
    "### Polymorphism: \n",
    "- The word polymorphism means having many forms. \n",
    "- In programming, polymorphism means the same function name (but different signatures) being used for different types. \n",
    "- The key difference is the data types and number of arguments used in function."
   ]
  },
  {
   "cell_type": "code",
   "execution_count": 3,
   "id": "092b2912",
   "metadata": {},
   "outputs": [
    {
     "name": "stdout",
     "output_type": "stream",
     "text": [
      "5\n",
      "3\n",
      "5\n",
      "9\n"
     ]
    }
   ],
   "source": [
    "# Example of inbuilt polymorphic functions\n",
    "\n",
    "# len() being used for a string\n",
    "print(len(\"geeks\"))\n",
    " \n",
    "# len() being used for a list\n",
    "print(len([10, 20, 30]))\n",
    "\n",
    "# Examples of user-defined polymorphic functions\n",
    "\n",
    "def add(x, y, z = 0):\n",
    "    return x + y+z\n",
    " \n",
    "# Driver code\n",
    "print(add(2, 3))\n",
    "print(add(2, 3, 4))"
   ]
  },
  {
   "cell_type": "code",
   "execution_count": 4,
   "id": "f9ecb3f4",
   "metadata": {},
   "outputs": [
    {
     "name": "stdout",
     "output_type": "stream",
     "text": [
      "New Delhi is the capital of India.\n",
      "Hindi is the most widely spoken language of India.\n",
      "India is a developing country.\n",
      "Washington, D.C. is the capital of USA.\n",
      "English is the primary language of USA.\n",
      "USA is a developed country.\n"
     ]
    }
   ],
   "source": [
    "# Polymorphism with class methods\n",
    "class India():\n",
    "    def capital(self):\n",
    "        print(\"New Delhi is the capital of India.\")\n",
    " \n",
    "    def language(self):\n",
    "        print(\"Hindi is the most widely spoken language of India.\")\n",
    " \n",
    "    def type(self):\n",
    "        print(\"India is a developing country.\")\n",
    "\n",
    "class USA():\n",
    "    def capital(self):\n",
    "        print(\"Washington, D.C. is the capital of USA.\")\n",
    " \n",
    "    def language(self):\n",
    "        print(\"English is the primary language of USA.\")\n",
    " \n",
    "    def type(self):\n",
    "        print(\"USA is a developed country.\")\n",
    "\n",
    "obj_ind = India()\n",
    "obj_usa = USA()\n",
    "for country in (obj_ind, obj_usa):\n",
    "    country.capital()\n",
    "    country.language()\n",
    "    country.type()"
   ]
  },
  {
   "cell_type": "code",
   "execution_count": 5,
   "id": "d0af7c8c",
   "metadata": {},
   "outputs": [
    {
     "name": "stdout",
     "output_type": "stream",
     "text": [
      "There are many types of birds.\n",
      "Most of the birds can fly but some cannot.\n",
      "There are many types of birds.\n",
      "Sparrows can fly.\n",
      "There are many types of birds.\n",
      "Ostriches cannot fly.\n"
     ]
    }
   ],
   "source": [
    "# Polymorphism with Inheritance: \n",
    "class Bird:\n",
    "    def intro(self):\n",
    "        print(\"There are many types of birds.\")\n",
    "     \n",
    "    def flight(self):\n",
    "        print(\"Most of the birds can fly but some cannot.\")\n",
    "\n",
    "class sparrow(Bird):\n",
    "    def flight(self):\n",
    "        print(\"Sparrows can fly.\")\n",
    "\n",
    "class ostrich(Bird):\n",
    "    def flight(self):\n",
    "        print(\"Ostriches cannot fly.\")\n",
    "\n",
    "obj_bird = Bird()\n",
    "obj_spr = sparrow()\n",
    "obj_ost = ostrich()\n",
    " \n",
    "obj_bird.intro()\n",
    "obj_bird.flight()\n",
    " \n",
    "obj_spr.intro()\n",
    "obj_spr.flight()\n",
    " \n",
    "obj_ost.intro()\n",
    "obj_ost.flight()"
   ]
  },
  {
   "cell_type": "code",
   "execution_count": 6,
   "id": "9684c544",
   "metadata": {},
   "outputs": [
    {
     "name": "stdout",
     "output_type": "stream",
     "text": [
      "New Delhi is the capital of India.\n",
      "Hindi is the most widely spoken language of India.\n",
      "India is a developing country.\n",
      "Washington, D.C. is the capital of USA.\n",
      "English is the primary language of USA.\n",
      "USA is a developed country.\n"
     ]
    }
   ],
   "source": [
    "# Polymorphism with a Function and objects\n",
    "\n",
    "class India():\n",
    "    def capital(self):\n",
    "        print(\"New Delhi is the capital of India.\")\n",
    "  \n",
    "    def language(self):\n",
    "        print(\"Hindi is the most widely spoken language of India.\")\n",
    "  \n",
    "    def type(self):\n",
    "        print(\"India is a developing country.\")\n",
    "\n",
    "class USA():\n",
    "    def capital(self):\n",
    "        print(\"Washington, D.C. is the capital of USA.\")\n",
    "  \n",
    "    def language(self):\n",
    "        print(\"English is the primary language of USA.\")\n",
    "  \n",
    "    def type(self):\n",
    "        print(\"USA is a developed country.\")\n",
    "\n",
    "def func(obj):\n",
    "    obj.capital()\n",
    "    obj.language()\n",
    "    obj.type()\n",
    "\n",
    "obj_ind = India()\n",
    "obj_usa = USA()\n",
    "  \n",
    "func(obj_ind)\n",
    "func(obj_usa)\n"
   ]
  },
  {
   "cell_type": "code",
   "execution_count": 7,
   "id": "42003e82",
   "metadata": {},
   "outputs": [
    {
     "name": "stdout",
     "output_type": "stream",
     "text": [
      "Woof!\n",
      "Meow!\n"
     ]
    }
   ],
   "source": [
    "# polymorphism in Python using inheritance and method overriding:\n",
    "\n",
    "class Animal:\n",
    "    def speak(self):\n",
    "        raise NotImplementedError(\"Subclass must implement this method\")\n",
    "\n",
    "class Dog(Animal):\n",
    "    def speak(self):\n",
    "        return \"Woof!\"\n",
    "\n",
    "class Cat(Animal):\n",
    "    def speak(self):\n",
    "        return \"Meow!\"\n",
    "\n",
    "# Create a list of Animal objects\n",
    "animals = [Dog(), Cat()]\n",
    " \n",
    "# Call the speak method on each object\n",
    "for animal in animals:\n",
    "    print(animal.speak())"
   ]
  },
  {
   "cell_type": "markdown",
   "id": "a784ff18",
   "metadata": {},
   "source": [
    "### Class or Static Variables:\n",
    "- All objects share class or static variables. \n",
    "- An instance or non-static variables are different for different objects (every object has a copy). \n",
    "- For example, let a Computer Science Student be represented by a class CSStudent. \n",
    "- The class may have a static variable whose value is “cse” for all objects. And class may also have non-static members like name and roll.\n",
    "\n",
    "##### Features of Static Variables\n",
    "- Static variables are allocated memory once when the object for the class is created for the first time.\n",
    "- Static variables are created outside of methods but inside a class\n",
    "- Static variables can be accessed through a class but not directly with an instance.\n",
    "- Static variables behavior doesn’t change for every object.\n",
    "\n",
    "#### Advantages:\n",
    "##### Memory efficiency: \n",
    "- Since static variables are shared among all instances of a class, they can save memory by avoiding the need to create multiple copies of the same data.\n",
    "\n",
    "##### Shared state: \n",
    "- Static variables can provide a way to maintain shared state across all instances of a class, allowing all instances to access and modify the same data.\n",
    "\n",
    "##### Easy to access: \n",
    "- Static variables can be accessed using the class name itself, without needing an instance of the class. This can make it more convenient to access and modify the data stored in a static variable.\n",
    "\n",
    "##### Initialization: \n",
    "- Static variables can be initialized when the class is defined, making it easy to ensure that the variable has a valid starting value.\n",
    "\n",
    "##### Readability: \n",
    "- Static variables can improve the readability of the code, as they clearly indicate that the data stored in the variable is shared among all instances of the class.\n",
    "\n",
    "#### Disadvantages:\n",
    "\n",
    "##### Inflexibility: \n",
    "- Static variables can be inflexible, as their values are shared across all instances of the class, making it difficult to have different values for different instances.\n",
    "\n",
    "##### Hidden dependencies: \n",
    "- Static variables can create hidden dependencies between different parts of the code, making it difficult to understand and modify the code.\n",
    "\n",
    "##### Thread safety: \n",
    "- Static variables can be problematic in a multithreaded environment, as they can introduce race conditions and synchronization issues if not properly synchronized.\n",
    "\n",
    "##### Namespace pollution: \n",
    "- Static variables can add to the namespace of the class, potentially causing name conflicts and making it harder to maintain the code.\n",
    "\n",
    "##### Testing: \n",
    "- Static variables can make it more difficult to write effective unit tests, as the state of the static variable may affect the behavior of the class and its methods."
   ]
  },
  {
   "cell_type": "code",
   "execution_count": 9,
   "id": "48229cd3",
   "metadata": {},
   "outputs": [
    {
     "name": "stdout",
     "output_type": "stream",
     "text": [
      "cse\n",
      "cse\n",
      "Vishal\n",
      "Mohit\n",
      "1\n",
      "2\n",
      "cse\n",
      "ece\n",
      "cse\n",
      "ece\n",
      "mech\n"
     ]
    }
   ],
   "source": [
    "# Python program to show that the variables with a value assigned in class declaration, are class variables\n",
    " \n",
    "# Class for Computer Science Student\n",
    "class CSStudent:\n",
    "    stream = 'cse'                  # Class Variable\n",
    "    def __init__(self,name,roll):\n",
    "        self.name = name            # Instance Variable\n",
    "        self.roll = roll            # Instance Variable\n",
    "# Objects of CSStudent class\n",
    "a = CSStudent('Vishal', 1)\n",
    "b = CSStudent('Mohit', 2)\n",
    " \n",
    "print(a.stream)  # prints \"cse\"\n",
    "print(b.stream)  # prints \"cse\"\n",
    "print(a.name)    # prints \"Geek\"\n",
    "print(b.name)    # prints \"Nerd\"\n",
    "print(a.roll)    # prints \"1\"\n",
    "print(b.roll)    # prints \"2\"\n",
    " \n",
    "# Class variables can be accessed using class name also\n",
    "print(CSStudent.stream) # prints \"cse\"\n",
    " \n",
    "# Now if we change the stream for just a it won't be changed for b\n",
    "a.stream = 'ece'\n",
    "print(a.stream) # prints 'ece'\n",
    "print(b.stream) # prints 'cse'\n",
    " \n",
    "# To change the stream for all instances of the class we can change it\n",
    "# directly from the class\n",
    "CSStudent.stream = 'mech'\n",
    " \n",
    "print(a.stream) # prints 'ece'\n",
    "print(b.stream) # prints 'mech'"
   ]
  },
  {
   "cell_type": "markdown",
   "id": "0cc96efd",
   "metadata": {},
   "source": [
    "### Class method:\n",
    "- The @classmethod decorator is used to create class method.\n",
    "- A class method receives the class as an implicit first argument, just like an instance method receives the instance \n",
    "- Syntax: class C(object):\n",
    "            @classmethod\n",
    "            def fun(cls, arg1, arg2, ...):\n",
    "               ....\n",
    "- fun function that needs to be converted into a class method\n",
    "- returns: a class method for function.\n",
    "- A class method is a method that is bound to the class and not the object of the class.\n",
    "- This method can access or modify the class state. \n",
    "\n",
    "### Static Method:\n",
    "- The @staticmethod decorator is used to create class method.\n",
    "- A static method does not receive an implicit first argument. \n",
    "- A static method is also a method that is bound to the class and not the object of the class. \n",
    "- This method can’t access or modify the class state. \n",
    "- Syntax: class C(object):\n",
    "            @staticmethod\n",
    "            def fun(arg1, arg2, ...):\n",
    "                ...\n",
    "- returns: a static method for function fun.\n",
    "\n",
    "### Class method vs Static Method:\n",
    "- A class method takes cls as the first parameter while a static method needs no specific parameters.\n",
    "- A class method can access or modify the class state while a static method can’t access or modify it.\n",
    "- We use @classmethod decorator in python to create a class method and we use @staticmethod decorator to create a static method in python.\n",
    "\n",
    "### When to use the class or static method?\n",
    "- We generally use the class method to create factory methods. Factory methods return class objects(similar to a constructor)for different use cases.\n",
    "- We generally use static methods to create utility functions.\n"
   ]
  },
  {
   "cell_type": "code",
   "execution_count": 10,
   "id": "617883b3",
   "metadata": {},
   "outputs": [
    {
     "name": "stdout",
     "output_type": "stream",
     "text": [
      "21\n",
      "27\n",
      "True\n"
     ]
    }
   ],
   "source": [
    "# Python program to demonstrate use of class method and static method.\n",
    "from datetime import date\n",
    "class Person:\n",
    "    def __init__(self, name, age):\n",
    "        self.name = name\n",
    "        self.age = age\n",
    " \n",
    "    # a class method to create a Person object by birth year.\n",
    "    @classmethod\n",
    "    def fromBirthYear(cls, name, year):\n",
    "        return cls(name, date.today().year - year)\n",
    " \n",
    "    # a static method to check if a Person is adult or not.\n",
    "    @staticmethod\n",
    "    def isAdult(age):\n",
    "        return age > 18\n",
    " \n",
    " \n",
    "person1 = Person('mayank', 21)\n",
    "person2 = Person.fromBirthYear('mayank', 1996)\n",
    " \n",
    "print(person1.age)\n",
    "print(person2.age)\n",
    " \n",
    "# print the result\n",
    "print(Person.isAdult(22))"
   ]
  }
 ],
 "metadata": {
  "kernelspec": {
   "display_name": "Python 3",
   "language": "python",
   "name": "python3"
  },
  "language_info": {
   "codemirror_mode": {
    "name": "ipython",
    "version": 3
   },
   "file_extension": ".py",
   "mimetype": "text/x-python",
   "name": "python",
   "nbconvert_exporter": "python",
   "pygments_lexer": "ipython3",
   "version": "3.8.8"
  }
 },
 "nbformat": 4,
 "nbformat_minor": 5
}
